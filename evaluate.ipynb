{
 "cells": [
  {
   "cell_type": "code",
   "execution_count": 1,
   "id": "4719d661",
   "metadata": {},
   "outputs": [],
   "source": [
    "import pandas as pd\n",
    "import numpy as np\n",
    "\n",
    "import matplotlib.pyplot as plt\n",
    "import seaborn as sns\n",
    "\n",
    "from sklearn.linear_model import LinearRegression\n",
    "from sklearn.metrics import mean_squared_error, r2_score, explained_variance_score\n",
    "\n",
    "import wrangle\n",
    "import evaluate"
   ]
  },
  {
   "cell_type": "code",
   "execution_count": 2,
   "id": "07ec5697",
   "metadata": {},
   "outputs": [
    {
     "data": {
      "text/plain": [
       "((901586, 7), (386395, 7), (321996, 7))"
      ]
     },
     "execution_count": 2,
     "metadata": {},
     "output_type": "execute_result"
    }
   ],
   "source": [
    "# acquire data and split data using a function from wrangle module\n",
    "train, validate, test = wrangle.wrangle_zillow()\n",
    "\n",
    "# get rows and columns of data\n",
    "train.shape, validate.shape, test.shape"
   ]
  },
  {
   "cell_type": "code",
   "execution_count": 3,
   "id": "fd40040c",
   "metadata": {},
   "outputs": [
    {
     "data": {
      "text/html": [
       "<div>\n",
       "<style scoped>\n",
       "    .dataframe tbody tr th:only-of-type {\n",
       "        vertical-align: middle;\n",
       "    }\n",
       "\n",
       "    .dataframe tbody tr th {\n",
       "        vertical-align: top;\n",
       "    }\n",
       "\n",
       "    .dataframe thead th {\n",
       "        text-align: right;\n",
       "    }\n",
       "</style>\n",
       "<table border=\"1\" class=\"dataframe\">\n",
       "  <thead>\n",
       "    <tr style=\"text-align: right;\">\n",
       "      <th></th>\n",
       "      <th>bedroom</th>\n",
       "      <th>bathroom</th>\n",
       "      <th>sqft</th>\n",
       "      <th>tax_value</th>\n",
       "      <th>year_built</th>\n",
       "      <th>tax_amount</th>\n",
       "      <th>fips</th>\n",
       "    </tr>\n",
       "  </thead>\n",
       "  <tbody>\n",
       "    <tr>\n",
       "      <th>1551601</th>\n",
       "      <td>2.0</td>\n",
       "      <td>2.0</td>\n",
       "      <td>1044.0</td>\n",
       "      <td>81562.0</td>\n",
       "      <td>1948.0</td>\n",
       "      <td>1096.38</td>\n",
       "      <td>6037.0</td>\n",
       "    </tr>\n",
       "    <tr>\n",
       "      <th>919302</th>\n",
       "      <td>3.0</td>\n",
       "      <td>2.0</td>\n",
       "      <td>1208.0</td>\n",
       "      <td>834159.0</td>\n",
       "      <td>1942.0</td>\n",
       "      <td>9996.74</td>\n",
       "      <td>6037.0</td>\n",
       "    </tr>\n",
       "    <tr>\n",
       "      <th>1944334</th>\n",
       "      <td>3.0</td>\n",
       "      <td>1.0</td>\n",
       "      <td>972.0</td>\n",
       "      <td>140980.0</td>\n",
       "      <td>1954.0</td>\n",
       "      <td>1880.62</td>\n",
       "      <td>6037.0</td>\n",
       "    </tr>\n",
       "    <tr>\n",
       "      <th>1048208</th>\n",
       "      <td>3.0</td>\n",
       "      <td>1.0</td>\n",
       "      <td>1803.0</td>\n",
       "      <td>140348.0</td>\n",
       "      <td>1962.0</td>\n",
       "      <td>2461.62</td>\n",
       "      <td>6037.0</td>\n",
       "    </tr>\n",
       "    <tr>\n",
       "      <th>314406</th>\n",
       "      <td>3.0</td>\n",
       "      <td>2.0</td>\n",
       "      <td>1572.0</td>\n",
       "      <td>235819.0</td>\n",
       "      <td>1968.0</td>\n",
       "      <td>3374.57</td>\n",
       "      <td>6037.0</td>\n",
       "    </tr>\n",
       "  </tbody>\n",
       "</table>\n",
       "</div>"
      ],
      "text/plain": [
       "         bedroom  bathroom    sqft  tax_value  year_built  tax_amount    fips\n",
       "1551601      2.0       2.0  1044.0    81562.0      1948.0     1096.38  6037.0\n",
       "919302       3.0       2.0  1208.0   834159.0      1942.0     9996.74  6037.0\n",
       "1944334      3.0       1.0   972.0   140980.0      1954.0     1880.62  6037.0\n",
       "1048208      3.0       1.0  1803.0   140348.0      1962.0     2461.62  6037.0\n",
       "314406       3.0       2.0  1572.0   235819.0      1968.0     3374.57  6037.0"
      ]
     },
     "execution_count": 3,
     "metadata": {},
     "output_type": "execute_result"
    }
   ],
   "source": [
    "# peak into data\n",
    "train.head()"
   ]
  },
  {
   "cell_type": "markdown",
   "id": "71a36ab1",
   "metadata": {},
   "source": [
    "#### 2. Fit a linear regression model (ordinary least squares) and compute yhat, predictions of taxvaluedollarcnt using only calculatedfinishedsqft."
   ]
  },
  {
   "cell_type": "code",
   "execution_count": 4,
   "id": "b6f0e947",
   "metadata": {},
   "outputs": [
    {
     "data": {
      "text/html": [
       "<div>\n",
       "<style scoped>\n",
       "    .dataframe tbody tr th:only-of-type {\n",
       "        vertical-align: middle;\n",
       "    }\n",
       "\n",
       "    .dataframe tbody tr th {\n",
       "        vertical-align: top;\n",
       "    }\n",
       "\n",
       "    .dataframe thead th {\n",
       "        text-align: right;\n",
       "    }\n",
       "</style>\n",
       "<table border=\"1\" class=\"dataframe\">\n",
       "  <thead>\n",
       "    <tr style=\"text-align: right;\">\n",
       "      <th></th>\n",
       "      <th>sqft</th>\n",
       "      <th>tax_value</th>\n",
       "    </tr>\n",
       "  </thead>\n",
       "  <tbody>\n",
       "    <tr>\n",
       "      <th>1551601</th>\n",
       "      <td>1044.0</td>\n",
       "      <td>81562.0</td>\n",
       "    </tr>\n",
       "    <tr>\n",
       "      <th>919302</th>\n",
       "      <td>1208.0</td>\n",
       "      <td>834159.0</td>\n",
       "    </tr>\n",
       "    <tr>\n",
       "      <th>1944334</th>\n",
       "      <td>972.0</td>\n",
       "      <td>140980.0</td>\n",
       "    </tr>\n",
       "    <tr>\n",
       "      <th>1048208</th>\n",
       "      <td>1803.0</td>\n",
       "      <td>140348.0</td>\n",
       "    </tr>\n",
       "    <tr>\n",
       "      <th>314406</th>\n",
       "      <td>1572.0</td>\n",
       "      <td>235819.0</td>\n",
       "    </tr>\n",
       "  </tbody>\n",
       "</table>\n",
       "</div>"
      ],
      "text/plain": [
       "           sqft  tax_value\n",
       "1551601  1044.0    81562.0\n",
       "919302   1208.0   834159.0\n",
       "1944334   972.0   140980.0\n",
       "1048208  1803.0   140348.0\n",
       "314406   1572.0   235819.0"
      ]
     },
     "execution_count": 4,
     "metadata": {},
     "output_type": "execute_result"
    }
   ],
   "source": [
    "# createa a dataframe with needed variables \n",
    "preds= train[['sqft', 'tax_value']]\n",
    "\n",
    "# peak into data\n",
    "preds.head()"
   ]
  },
  {
   "cell_type": "code",
   "execution_count": 5,
   "id": "e1a6c18d",
   "metadata": {},
   "outputs": [
    {
     "data": {
      "text/html": [
       "<style>#sk-container-id-1 {color: black;background-color: white;}#sk-container-id-1 pre{padding: 0;}#sk-container-id-1 div.sk-toggleable {background-color: white;}#sk-container-id-1 label.sk-toggleable__label {cursor: pointer;display: block;width: 100%;margin-bottom: 0;padding: 0.3em;box-sizing: border-box;text-align: center;}#sk-container-id-1 label.sk-toggleable__label-arrow:before {content: \"▸\";float: left;margin-right: 0.25em;color: #696969;}#sk-container-id-1 label.sk-toggleable__label-arrow:hover:before {color: black;}#sk-container-id-1 div.sk-estimator:hover label.sk-toggleable__label-arrow:before {color: black;}#sk-container-id-1 div.sk-toggleable__content {max-height: 0;max-width: 0;overflow: hidden;text-align: left;background-color: #f0f8ff;}#sk-container-id-1 div.sk-toggleable__content pre {margin: 0.2em;color: black;border-radius: 0.25em;background-color: #f0f8ff;}#sk-container-id-1 input.sk-toggleable__control:checked~div.sk-toggleable__content {max-height: 200px;max-width: 100%;overflow: auto;}#sk-container-id-1 input.sk-toggleable__control:checked~label.sk-toggleable__label-arrow:before {content: \"▾\";}#sk-container-id-1 div.sk-estimator input.sk-toggleable__control:checked~label.sk-toggleable__label {background-color: #d4ebff;}#sk-container-id-1 div.sk-label input.sk-toggleable__control:checked~label.sk-toggleable__label {background-color: #d4ebff;}#sk-container-id-1 input.sk-hidden--visually {border: 0;clip: rect(1px 1px 1px 1px);clip: rect(1px, 1px, 1px, 1px);height: 1px;margin: -1px;overflow: hidden;padding: 0;position: absolute;width: 1px;}#sk-container-id-1 div.sk-estimator {font-family: monospace;background-color: #f0f8ff;border: 1px dotted black;border-radius: 0.25em;box-sizing: border-box;margin-bottom: 0.5em;}#sk-container-id-1 div.sk-estimator:hover {background-color: #d4ebff;}#sk-container-id-1 div.sk-parallel-item::after {content: \"\";width: 100%;border-bottom: 1px solid gray;flex-grow: 1;}#sk-container-id-1 div.sk-label:hover label.sk-toggleable__label {background-color: #d4ebff;}#sk-container-id-1 div.sk-serial::before {content: \"\";position: absolute;border-left: 1px solid gray;box-sizing: border-box;top: 0;bottom: 0;left: 50%;z-index: 0;}#sk-container-id-1 div.sk-serial {display: flex;flex-direction: column;align-items: center;background-color: white;padding-right: 0.2em;padding-left: 0.2em;position: relative;}#sk-container-id-1 div.sk-item {position: relative;z-index: 1;}#sk-container-id-1 div.sk-parallel {display: flex;align-items: stretch;justify-content: center;background-color: white;position: relative;}#sk-container-id-1 div.sk-item::before, #sk-container-id-1 div.sk-parallel-item::before {content: \"\";position: absolute;border-left: 1px solid gray;box-sizing: border-box;top: 0;bottom: 0;left: 50%;z-index: -1;}#sk-container-id-1 div.sk-parallel-item {display: flex;flex-direction: column;z-index: 1;position: relative;background-color: white;}#sk-container-id-1 div.sk-parallel-item:first-child::after {align-self: flex-end;width: 50%;}#sk-container-id-1 div.sk-parallel-item:last-child::after {align-self: flex-start;width: 50%;}#sk-container-id-1 div.sk-parallel-item:only-child::after {width: 0;}#sk-container-id-1 div.sk-dashed-wrapped {border: 1px dashed gray;margin: 0 0.4em 0.5em 0.4em;box-sizing: border-box;padding-bottom: 0.4em;background-color: white;}#sk-container-id-1 div.sk-label label {font-family: monospace;font-weight: bold;display: inline-block;line-height: 1.2em;}#sk-container-id-1 div.sk-label-container {text-align: center;}#sk-container-id-1 div.sk-container {/* jupyter's `normalize.less` sets `[hidden] { display: none; }` but bootstrap.min.css set `[hidden] { display: none !important; }` so we also need the `!important` here to be able to override the default hidden behavior on the sphinx rendered scikit-learn.org. See: https://github.com/scikit-learn/scikit-learn/issues/21755 */display: inline-block !important;position: relative;}#sk-container-id-1 div.sk-text-repr-fallback {display: none;}</style><div id=\"sk-container-id-1\" class=\"sk-top-container\"><div class=\"sk-text-repr-fallback\"><pre>LinearRegression()</pre><b>In a Jupyter environment, please rerun this cell to show the HTML representation or trust the notebook. <br />On GitHub, the HTML representation is unable to render, please try loading this page with nbviewer.org.</b></div><div class=\"sk-container\" hidden><div class=\"sk-item\"><div class=\"sk-estimator sk-toggleable\"><input class=\"sk-toggleable__control sk-hidden--visually\" id=\"sk-estimator-id-1\" type=\"checkbox\" checked><label for=\"sk-estimator-id-1\" class=\"sk-toggleable__label sk-toggleable__label-arrow\">LinearRegression</label><div class=\"sk-toggleable__content\"><pre>LinearRegression()</pre></div></div></div></div></div>"
      ],
      "text/plain": [
       "LinearRegression()"
      ]
     },
     "execution_count": 5,
     "metadata": {},
     "output_type": "execute_result"
    }
   ],
   "source": [
    "# create model\n",
    "osl_model = LinearRegression()\n",
    "\n",
    "# fit model\n",
    "osl_model.fit(train[['sqft']], train[['tax_value']])"
   ]
  },
  {
   "cell_type": "code",
   "execution_count": 6,
   "id": "9a22e422",
   "metadata": {},
   "outputs": [
    {
     "data": {
      "text/html": [
       "<div>\n",
       "<style scoped>\n",
       "    .dataframe tbody tr th:only-of-type {\n",
       "        vertical-align: middle;\n",
       "    }\n",
       "\n",
       "    .dataframe tbody tr th {\n",
       "        vertical-align: top;\n",
       "    }\n",
       "\n",
       "    .dataframe thead th {\n",
       "        text-align: right;\n",
       "    }\n",
       "</style>\n",
       "<table border=\"1\" class=\"dataframe\">\n",
       "  <thead>\n",
       "    <tr style=\"text-align: right;\">\n",
       "      <th></th>\n",
       "      <th>sqft</th>\n",
       "      <th>tax_value</th>\n",
       "      <th>yhat</th>\n",
       "    </tr>\n",
       "  </thead>\n",
       "  <tbody>\n",
       "    <tr>\n",
       "      <th>1551601</th>\n",
       "      <td>1044.0</td>\n",
       "      <td>81562.0</td>\n",
       "      <td>258606.941165</td>\n",
       "    </tr>\n",
       "    <tr>\n",
       "      <th>919302</th>\n",
       "      <td>1208.0</td>\n",
       "      <td>834159.0</td>\n",
       "      <td>285523.224166</td>\n",
       "    </tr>\n",
       "    <tr>\n",
       "      <th>1944334</th>\n",
       "      <td>972.0</td>\n",
       "      <td>140980.0</td>\n",
       "      <td>246790.036434</td>\n",
       "    </tr>\n",
       "    <tr>\n",
       "      <th>1048208</th>\n",
       "      <td>1803.0</td>\n",
       "      <td>140348.0</td>\n",
       "      <td>383176.811880</td>\n",
       "    </tr>\n",
       "    <tr>\n",
       "      <th>314406</th>\n",
       "      <td>1572.0</td>\n",
       "      <td>235819.0</td>\n",
       "      <td>345264.242532</td>\n",
       "    </tr>\n",
       "  </tbody>\n",
       "</table>\n",
       "</div>"
      ],
      "text/plain": [
       "           sqft  tax_value           yhat\n",
       "1551601  1044.0    81562.0  258606.941165\n",
       "919302   1208.0   834159.0  285523.224166\n",
       "1944334   972.0   140980.0  246790.036434\n",
       "1048208  1803.0   140348.0  383176.811880\n",
       "314406   1572.0   235819.0  345264.242532"
      ]
     },
     "execution_count": 6,
     "metadata": {},
     "output_type": "execute_result"
    }
   ],
   "source": [
    "# compute predictions\n",
    "preds['yhat'] = osl_model.predict(train[['sqft']])\n",
    "\n",
    "# peak into data\n",
    "preds.head()"
   ]
  },
  {
   "cell_type": "markdown",
   "id": "92197876",
   "metadata": {},
   "source": [
    "#### 3. Plot the residuals for the linear regression model that you made."
   ]
  },
  {
   "cell_type": "code",
   "execution_count": 7,
   "id": "1a388931",
   "metadata": {},
   "outputs": [
    {
     "data": {
      "text/html": [
       "<div>\n",
       "<style scoped>\n",
       "    .dataframe tbody tr th:only-of-type {\n",
       "        vertical-align: middle;\n",
       "    }\n",
       "\n",
       "    .dataframe tbody tr th {\n",
       "        vertical-align: top;\n",
       "    }\n",
       "\n",
       "    .dataframe thead th {\n",
       "        text-align: right;\n",
       "    }\n",
       "</style>\n",
       "<table border=\"1\" class=\"dataframe\">\n",
       "  <thead>\n",
       "    <tr style=\"text-align: right;\">\n",
       "      <th></th>\n",
       "      <th>sqft</th>\n",
       "      <th>tax_value</th>\n",
       "      <th>yhat</th>\n",
       "      <th>residuals</th>\n",
       "    </tr>\n",
       "  </thead>\n",
       "  <tbody>\n",
       "    <tr>\n",
       "      <th>1551601</th>\n",
       "      <td>1044.0</td>\n",
       "      <td>81562.0</td>\n",
       "      <td>258606.941165</td>\n",
       "      <td>177044.941165</td>\n",
       "    </tr>\n",
       "    <tr>\n",
       "      <th>919302</th>\n",
       "      <td>1208.0</td>\n",
       "      <td>834159.0</td>\n",
       "      <td>285523.224166</td>\n",
       "      <td>-548635.775834</td>\n",
       "    </tr>\n",
       "    <tr>\n",
       "      <th>1944334</th>\n",
       "      <td>972.0</td>\n",
       "      <td>140980.0</td>\n",
       "      <td>246790.036434</td>\n",
       "      <td>105810.036434</td>\n",
       "    </tr>\n",
       "    <tr>\n",
       "      <th>1048208</th>\n",
       "      <td>1803.0</td>\n",
       "      <td>140348.0</td>\n",
       "      <td>383176.811880</td>\n",
       "      <td>242828.811880</td>\n",
       "    </tr>\n",
       "    <tr>\n",
       "      <th>314406</th>\n",
       "      <td>1572.0</td>\n",
       "      <td>235819.0</td>\n",
       "      <td>345264.242532</td>\n",
       "      <td>109445.242532</td>\n",
       "    </tr>\n",
       "  </tbody>\n",
       "</table>\n",
       "</div>"
      ],
      "text/plain": [
       "           sqft  tax_value           yhat      residuals\n",
       "1551601  1044.0    81562.0  258606.941165  177044.941165\n",
       "919302   1208.0   834159.0  285523.224166 -548635.775834\n",
       "1944334   972.0   140980.0  246790.036434  105810.036434\n",
       "1048208  1803.0   140348.0  383176.811880  242828.811880\n",
       "314406   1572.0   235819.0  345264.242532  109445.242532"
      ]
     },
     "execution_count": 7,
     "metadata": {},
     "output_type": "execute_result"
    }
   ],
   "source": [
    "# compute model residual\n",
    "preds['residuals'] = preds['yhat'] - preds['tax_value']\n",
    "\n",
    "# peak into data\n",
    "preds.head()"
   ]
  },
  {
   "cell_type": "code",
   "execution_count": 8,
   "id": "073db988",
   "metadata": {},
   "outputs": [
    {
     "data": {
      "text/plain": [
       "Text(0.5, 1.0, 'Residual vs Actual Value')"
      ]
     },
     "execution_count": 8,
     "metadata": {},
     "output_type": "execute_result"
    },
    {
     "data": {
      "image/png": "[encoded data removed]",
      "text/plain": [
       "<Figure size 640x480 with 1 Axes>"
      ]
     },
     "metadata": {},
     "output_type": "display_data"
    }
   ],
   "source": [
    "# visualize actual vs residual\n",
    "plt.scatter(preds['tax_value'], preds ['residuals'])\n",
    "plt.xlabel('Actual Tax value')\n",
    "plt.ylabel('Residual')\n",
    "plt.title('Residual vs Actual Value')"
   ]
  },
  {
   "cell_type": "markdown",
   "id": "dfde0ac9",
   "metadata": {},
   "source": [
    "#### 4. Calculate the sum of squared errors, explained sum of squares, total sum of squares, mean squared error, and root mean squared error for your model."
   ]
  },
  {
   "cell_type": "code",
   "execution_count": 9,
   "id": "1b31b3f7",
   "metadata": {},
   "outputs": [
    {
     "data": {
      "text/plain": [
       "3.652122473248143e+16"
      ]
     },
     "execution_count": 9,
     "metadata": {},
     "output_type": "execute_result"
    }
   ],
   "source": [
    "# compute sum of squared errors (SSE )\n",
    "# SSE = (preds['residuals'] **2).sum()\n",
    "SSE = mean_squared_error(preds['tax_value'], preds.yhat)*len(preds)\n",
    "SSE"
   ]
  },
  {
   "cell_type": "code",
   "execution_count": 10,
   "id": "77e51572",
   "metadata": {},
   "outputs": [
    {
     "data": {
      "text/plain": [
       "7616996791518804.0"
      ]
     },
     "execution_count": 10,
     "metadata": {},
     "output_type": "execute_result"
    }
   ],
   "source": [
    "# compute explained sum of squares (ESS)\n",
    "ESS = ((preds['yhat']-preds['tax_value'].mean()) ** 2).sum()\n",
    "ESS "
   ]
  },
  {
   "cell_type": "code",
   "execution_count": 11,
   "id": "1aebe724",
   "metadata": {},
   "outputs": [
    {
     "data": {
      "text/plain": [
       "4.413822152400024e+16"
      ]
     },
     "execution_count": 11,
     "metadata": {},
     "output_type": "execute_result"
    }
   ],
   "source": [
    "# compute total sum of squares (TSS)\n",
    "TSS = SSE + ESS\n",
    "TSS"
   ]
  },
  {
   "cell_type": "code",
   "execution_count": 12,
   "id": "b1eaf882",
   "metadata": {},
   "outputs": [
    {
     "data": {
      "text/plain": [
       "40507754925.74356"
      ]
     },
     "execution_count": 12,
     "metadata": {},
     "output_type": "execute_result"
    }
   ],
   "source": [
    "# compute mean squared error (MSE)\n",
    "# MSE = SSE / len(preds)\n",
    "MSE = mean_squared_error(preds['tax_value'], preds.yhat)\n",
    "MSE"
   ]
  },
  {
   "cell_type": "code",
   "execution_count": 13,
   "id": "3380e549",
   "metadata": {},
   "outputs": [
    {
     "data": {
      "text/plain": [
       "201265.38432066145"
      ]
     },
     "execution_count": 13,
     "metadata": {},
     "output_type": "execute_result"
    }
   ],
   "source": [
    "# compute root mean squared error (RMSE)\n",
    "# RMSE = MSE ** .5\n",
    "RMSE = mean_squared_error(preds['tax_value'], preds.yhat, squared=False )\n",
    "RMSE"
   ]
  },
  {
   "cell_type": "markdown",
   "id": "1326684e",
   "metadata": {},
   "source": [
    "#### 5. Calculate the sum of squared errors, mean squared error, and root mean squared error for the baseline model (i.e. a model that always predicts the average taxvaluedollarcnt amount)."
   ]
  },
  {
   "cell_type": "code",
   "execution_count": 14,
   "id": "1a7a5d7d",
   "metadata": {},
   "outputs": [
    {
     "data": {
      "text/html": [
       "<div>\n",
       "<style scoped>\n",
       "    .dataframe tbody tr th:only-of-type {\n",
       "        vertical-align: middle;\n",
       "    }\n",
       "\n",
       "    .dataframe tbody tr th {\n",
       "        vertical-align: top;\n",
       "    }\n",
       "\n",
       "    .dataframe thead th {\n",
       "        text-align: right;\n",
       "    }\n",
       "</style>\n",
       "<table border=\"1\" class=\"dataframe\">\n",
       "  <thead>\n",
       "    <tr style=\"text-align: right;\">\n",
       "      <th></th>\n",
       "      <th>sqft</th>\n",
       "      <th>tax_value</th>\n",
       "      <th>yhat</th>\n",
       "      <th>residuals</th>\n",
       "      <th>yhat_baseline</th>\n",
       "    </tr>\n",
       "  </thead>\n",
       "  <tbody>\n",
       "    <tr>\n",
       "      <th>1551601</th>\n",
       "      <td>1044.0</td>\n",
       "      <td>81562.0</td>\n",
       "      <td>258606.941165</td>\n",
       "      <td>177044.941165</td>\n",
       "      <td>372882.297124</td>\n",
       "    </tr>\n",
       "    <tr>\n",
       "      <th>919302</th>\n",
       "      <td>1208.0</td>\n",
       "      <td>834159.0</td>\n",
       "      <td>285523.224166</td>\n",
       "      <td>-548635.775834</td>\n",
       "      <td>372882.297124</td>\n",
       "    </tr>\n",
       "    <tr>\n",
       "      <th>1944334</th>\n",
       "      <td>972.0</td>\n",
       "      <td>140980.0</td>\n",
       "      <td>246790.036434</td>\n",
       "      <td>105810.036434</td>\n",
       "      <td>372882.297124</td>\n",
       "    </tr>\n",
       "    <tr>\n",
       "      <th>1048208</th>\n",
       "      <td>1803.0</td>\n",
       "      <td>140348.0</td>\n",
       "      <td>383176.811880</td>\n",
       "      <td>242828.811880</td>\n",
       "      <td>372882.297124</td>\n",
       "    </tr>\n",
       "    <tr>\n",
       "      <th>314406</th>\n",
       "      <td>1572.0</td>\n",
       "      <td>235819.0</td>\n",
       "      <td>345264.242532</td>\n",
       "      <td>109445.242532</td>\n",
       "      <td>372882.297124</td>\n",
       "    </tr>\n",
       "  </tbody>\n",
       "</table>\n",
       "</div>"
      ],
      "text/plain": [
       "           sqft  tax_value           yhat      residuals  yhat_baseline\n",
       "1551601  1044.0    81562.0  258606.941165  177044.941165  372882.297124\n",
       "919302   1208.0   834159.0  285523.224166 -548635.775834  372882.297124\n",
       "1944334   972.0   140980.0  246790.036434  105810.036434  372882.297124\n",
       "1048208  1803.0   140348.0  383176.811880  242828.811880  372882.297124\n",
       "314406   1572.0   235819.0  345264.242532  109445.242532  372882.297124"
      ]
     },
     "execution_count": 14,
     "metadata": {},
     "output_type": "execute_result"
    }
   ],
   "source": [
    "# get baseline\n",
    "preds['yhat_baseline'] = train['tax_value'].mean()\n",
    "\n",
    "# peak into data\n",
    "preds.head()"
   ]
  },
  {
   "cell_type": "code",
   "execution_count": 15,
   "id": "a31ff7cb",
   "metadata": {},
   "outputs": [
    {
     "data": {
      "text/html": [
       "<div>\n",
       "<style scoped>\n",
       "    .dataframe tbody tr th:only-of-type {\n",
       "        vertical-align: middle;\n",
       "    }\n",
       "\n",
       "    .dataframe tbody tr th {\n",
       "        vertical-align: top;\n",
       "    }\n",
       "\n",
       "    .dataframe thead th {\n",
       "        text-align: right;\n",
       "    }\n",
       "</style>\n",
       "<table border=\"1\" class=\"dataframe\">\n",
       "  <thead>\n",
       "    <tr style=\"text-align: right;\">\n",
       "      <th></th>\n",
       "      <th>sqft</th>\n",
       "      <th>tax_value</th>\n",
       "      <th>yhat</th>\n",
       "      <th>residuals</th>\n",
       "      <th>yhat_baseline</th>\n",
       "      <th>yhat_baseline_residuals</th>\n",
       "    </tr>\n",
       "  </thead>\n",
       "  <tbody>\n",
       "    <tr>\n",
       "      <th>1551601</th>\n",
       "      <td>1044.0</td>\n",
       "      <td>81562.0</td>\n",
       "      <td>258606.941165</td>\n",
       "      <td>177044.941165</td>\n",
       "      <td>372882.297124</td>\n",
       "      <td>291320.297124</td>\n",
       "    </tr>\n",
       "    <tr>\n",
       "      <th>919302</th>\n",
       "      <td>1208.0</td>\n",
       "      <td>834159.0</td>\n",
       "      <td>285523.224166</td>\n",
       "      <td>-548635.775834</td>\n",
       "      <td>372882.297124</td>\n",
       "      <td>-461276.702876</td>\n",
       "    </tr>\n",
       "    <tr>\n",
       "      <th>1944334</th>\n",
       "      <td>972.0</td>\n",
       "      <td>140980.0</td>\n",
       "      <td>246790.036434</td>\n",
       "      <td>105810.036434</td>\n",
       "      <td>372882.297124</td>\n",
       "      <td>231902.297124</td>\n",
       "    </tr>\n",
       "    <tr>\n",
       "      <th>1048208</th>\n",
       "      <td>1803.0</td>\n",
       "      <td>140348.0</td>\n",
       "      <td>383176.811880</td>\n",
       "      <td>242828.811880</td>\n",
       "      <td>372882.297124</td>\n",
       "      <td>232534.297124</td>\n",
       "    </tr>\n",
       "    <tr>\n",
       "      <th>314406</th>\n",
       "      <td>1572.0</td>\n",
       "      <td>235819.0</td>\n",
       "      <td>345264.242532</td>\n",
       "      <td>109445.242532</td>\n",
       "      <td>372882.297124</td>\n",
       "      <td>137063.297124</td>\n",
       "    </tr>\n",
       "  </tbody>\n",
       "</table>\n",
       "</div>"
      ],
      "text/plain": [
       "           sqft  tax_value           yhat      residuals  yhat_baseline  \\\n",
       "1551601  1044.0    81562.0  258606.941165  177044.941165  372882.297124   \n",
       "919302   1208.0   834159.0  285523.224166 -548635.775834  372882.297124   \n",
       "1944334   972.0   140980.0  246790.036434  105810.036434  372882.297124   \n",
       "1048208  1803.0   140348.0  383176.811880  242828.811880  372882.297124   \n",
       "314406   1572.0   235819.0  345264.242532  109445.242532  372882.297124   \n",
       "\n",
       "         yhat_baseline_residuals  \n",
       "1551601            291320.297124  \n",
       "919302            -461276.702876  \n",
       "1944334            231902.297124  \n",
       "1048208            232534.297124  \n",
       "314406             137063.297124  "
      ]
     },
     "execution_count": 15,
     "metadata": {},
     "output_type": "execute_result"
    }
   ],
   "source": [
    "preds['yhat_baseline_residuals'] = preds['yhat_baseline']- preds['tax_value']\n",
    "# peak into data\n",
    "preds.head()"
   ]
  },
  {
   "cell_type": "code",
   "execution_count": 16,
   "id": "ebc37d39",
   "metadata": {
    "scrolled": true
   },
   "outputs": [
    {
     "data": {
      "text/plain": [
       "4.413822152401067e+16"
      ]
     },
     "execution_count": 16,
     "metadata": {},
     "output_type": "execute_result"
    }
   ],
   "source": [
    "# compute sum of squared errors (SSE )\n",
    "# SSE_baseline = (preds['yhat_baseline_residuals'] **2).sum()\n",
    "SSE_baseline = mean_squared_error(preds['tax_value'], preds.yhat_baseline)*len(preds)\n",
    "SSE_baseline"
   ]
  },
  {
   "cell_type": "code",
   "execution_count": 17,
   "id": "56df7a01",
   "metadata": {},
   "outputs": [
    {
     "data": {
      "text/plain": [
       "48956196662.338005"
      ]
     },
     "execution_count": 17,
     "metadata": {},
     "output_type": "execute_result"
    }
   ],
   "source": [
    "# compute explained sum of squares (ESS)\n",
    "# MSE = SSE_baseline / len(preds)\n",
    "MSE_baseline = mean_squared_error(preds['tax_value'], preds.yhat_baseline)\n",
    "MSE_baseline"
   ]
  },
  {
   "cell_type": "code",
   "execution_count": 18,
   "id": "5cfddf5b",
   "metadata": {},
   "outputs": [
    {
     "data": {
      "text/plain": [
       "221260.47243540362"
      ]
     },
     "execution_count": 18,
     "metadata": {},
     "output_type": "execute_result"
    }
   ],
   "source": [
    "# compute root mean squared error (RMSE)\n",
    "# RMSE = MSE_baseline ** .5\n",
    "RMSE_baseline = mean_squared_error(preds['tax_value'], preds.yhat_baseline, squared=False )\n",
    "RMSE_baseline"
   ]
  },
  {
   "cell_type": "markdown",
   "id": "a2b2fbd6",
   "metadata": {},
   "source": [
    "#### 6. Write python code that compares the sum of squared errors for your model against the sum of squared errors for the baseline model and outputs whether or not your model performs better than the baseline model."
   ]
  },
  {
   "cell_type": "code",
   "execution_count": 19,
   "id": "cdd06b81",
   "metadata": {},
   "outputs": [
    {
     "name": "stdout",
     "output_type": "stream",
     "text": [
      "baseline model SSE: 4.413822152401067e+16\n",
      "model SSE: 3.652122473248143e+16\n",
      "\n",
      "model performs better than baseline model\n"
     ]
    }
   ],
   "source": [
    "# print  SSE of baseline model and model\n",
    "print(f'baseline model SSE: {SSE_baseline}')\n",
    "print(f'model SSE: {SSE}\\n')\n",
    "\n",
    "\n",
    "# compare SSE of baseline and SSE of model\n",
    "if SSE < SSE_baseline: \n",
    "    print('model performs better than baseline model')\n",
    "else:\n",
    "    print('baseline model performs better than model')\n",
    "    "
   ]
  },
  {
   "cell_type": "markdown",
   "id": "4f70b7c2",
   "metadata": {},
   "source": [
    "#### 7. What is the amount of variance explained in your model?"
   ]
  },
  {
   "cell_type": "code",
   "execution_count": 20,
   "id": "b090faaf",
   "metadata": {},
   "outputs": [
    {
     "data": {
      "text/plain": [
       "0.17257144779577682"
      ]
     },
     "execution_count": 20,
     "metadata": {},
     "output_type": "execute_result"
    }
   ],
   "source": [
    "# compute explained variance score using explained_variance_score\n",
    "evs = explained_variance_score(preds['tax_value'], preds.yhat)\n",
    "evs"
   ]
  },
  {
   "cell_type": "code",
   "execution_count": 21,
   "id": "9d52ee04",
   "metadata": {},
   "outputs": [
    {
     "data": {
      "text/plain": [
       "0.17257144779577682"
      ]
     },
     "execution_count": 21,
     "metadata": {},
     "output_type": "execute_result"
    }
   ],
   "source": [
    "# compute explained variance score using sklearn r2_score\n",
    "r2_score(preds['tax_value'], preds.yhat)"
   ]
  },
  {
   "cell_type": "code",
   "execution_count": 22,
   "id": "d813e7e2",
   "metadata": {},
   "outputs": [
    {
     "data": {
      "text/plain": [
       "0.17257144779558115"
      ]
     },
     "execution_count": 22,
     "metadata": {},
     "output_type": "execute_result"
    }
   ],
   "source": [
    "# compute explained variance score manually\n",
    "R2 = ESS / TSS\n",
    "R2"
   ]
  },
  {
   "cell_type": "markdown",
   "id": "7381bb11",
   "metadata": {},
   "source": [
    "#### 8. Is your model better than the baseline model?"
   ]
  },
  {
   "cell_type": "code",
   "execution_count": 23,
   "id": "efdd6e60",
   "metadata": {},
   "outputs": [
    {
     "name": "stdout",
     "output_type": "stream",
     "text": [
      "baseline model RMSE: 221260.47243540362\n",
      "model RMSE: 201265.38432066145\n",
      "\n",
      "model performs better than baseline model\n"
     ]
    }
   ],
   "source": [
    "# print  SSE of baseline model and model\n",
    "print(f'baseline model RMSE: {RMSE_baseline}')\n",
    "print(f'model RMSE: {RMSE}\\n')\n",
    "\n",
    "# compare SSE of baseline and SSE of model\n",
    "if RMSE < RMSE_baseline: \n",
    "    print('model performs better than baseline model')\n",
    "else:\n",
    "    print('baseline model performs better than model')"
   ]
  },
  {
   "cell_type": "markdown",
   "id": "54e5d448",
   "metadata": {},
   "source": [
    "#### 9. Create a file named evaluate.py that contains the following functions.\n",
    "- plot_residuals(y, yhat): creates a residual plot\n",
    "- regression_errors(y, yhat): returns the following values:\n",
    "    - sum of squared errors (SSE)\n",
    "    - explained sum of squares (ESS)\n",
    "    - total sum of squares (TSS)\n",
    "    - mean squared error (MSE)\n",
    "    - root mean squared error (RMSE)\n",
    "- baseline_mean_errors(y): computes the SSE, MSE, and RMSE for the baseline model\n",
    "- better_than_baseline(y, yhat): returns true if your model performs better than the baseline, otherwise false"
   ]
  },
  {
   "cell_type": "code",
   "execution_count": 24,
   "id": "2b002ee5",
   "metadata": {},
   "outputs": [],
   "source": [
    "def plot_residuals(y, yhat):\n",
    "    '''takes in actual vale and predicated value to create a scatter plot graph'''\n",
    "    \n",
    "    residuals =  yhat -y\n",
    "    \n",
    "    plt.scatter(x=y , y=residuals)\n",
    "    plt.xlabel('Actual Tax value')\n",
    "    plt.ylabel('Residuals')\n",
    "    plt.title('Residual vs Actual Value')\n",
    "    plt.show()"
   ]
  },
  {
   "cell_type": "code",
   "execution_count": 25,
   "id": "ae615188",
   "metadata": {},
   "outputs": [
    {
     "data": {
      "image/png": "[encoded data removed]",
      "text/plain": [
       "<Figure size 640x480 with 1 Axes>"
      ]
     },
     "metadata": {},
     "output_type": "display_data"
    }
   ],
   "source": [
    "plot_residuals(preds['tax_value'], preds['yhat'])"
   ]
  },
  {
   "cell_type": "code",
   "execution_count": 26,
   "id": "6ebe8b5b",
   "metadata": {},
   "outputs": [],
   "source": [
    "def regression_errors(y, yhat):\n",
    "    '''takes in actual value and predicted value and return SSE, ESS, TSS, MSE, RMSE'''\n",
    "    \n",
    "    # compute SSE \n",
    "    SSE = mean_squared_error(y, yhat)*len(y)\n",
    "    \n",
    "    # compute ESS\n",
    "    ESS =  ESS = ((yhat-y.mean()) ** 2).sum()\n",
    "    \n",
    "    # compute TSS\n",
    "    TSS = SSE + ESS\n",
    "    \n",
    "    # compute MSE \n",
    "    MSE = mean_squared_error(y, yhat)\n",
    "    \n",
    "    # compute RMSE \n",
    "    RMSE = mean_squared_error(y, yhat, squared=False )\n",
    "    \n",
    "    return SSE, ESS, TSS, MSE, RMSE"
   ]
  },
  {
   "cell_type": "code",
   "execution_count": 27,
   "id": "424e0ad6",
   "metadata": {},
   "outputs": [
    {
     "data": {
      "text/plain": [
       "(3.652122473248143e+16,\n",
       " 7616996791518804.0,\n",
       " 4.413822152400024e+16,\n",
       " 40507754925.74356,\n",
       " 201265.38432066145)"
      ]
     },
     "execution_count": 27,
     "metadata": {},
     "output_type": "execute_result"
    }
   ],
   "source": [
    "regression_errors(preds['tax_value'], preds['yhat'])"
   ]
  },
  {
   "cell_type": "code",
   "execution_count": 28,
   "id": "1d74f7ad",
   "metadata": {},
   "outputs": [],
   "source": [
    "def baseline_mean_errors(y):\n",
    "    '''takes in actual value and return SSE, MSE, RMSE'''\n",
    "\n",
    "   # compute yhat_baseline\n",
    "    baseline = np.repeat(y.mean(), len(y))\n",
    "    \n",
    "    # compute SSE \n",
    "    SSE_baseline = mean_squared_error(y,baseline)*len(y)\n",
    "    \n",
    "    # compute MSE \n",
    "    MSE_baseline = mean_squared_error(y, baseline)\n",
    "    \n",
    "    # compute RMSE \n",
    "    RMSE_baseline = mean_squared_error(y,baseline, squared=False )\n",
    "    \n",
    "    return SSE_baseline, MSE_baseline, RMSE_baseline"
   ]
  },
  {
   "cell_type": "code",
   "execution_count": 29,
   "id": "35c0bab0",
   "metadata": {},
   "outputs": [
    {
     "data": {
      "text/plain": [
       "(4.413822152401067e+16, 48956196662.338005, 221260.47243540362)"
      ]
     },
     "execution_count": 29,
     "metadata": {},
     "output_type": "execute_result"
    }
   ],
   "source": [
    "baseline_mean_errors(preds['tax_value'])"
   ]
  },
  {
   "cell_type": "code",
   "execution_count": 30,
   "id": "a30a490f",
   "metadata": {},
   "outputs": [],
   "source": [
    "def better_than_baseline(y, yhat):\n",
    "    '''takes in actual value and predicted value and returns true if model performs better \n",
    "    than the baseline, otherwise false'''\n",
    "    \n",
    "    # call function to get SSE, MSE, RMSE of model\n",
    "    SSE, ESS, TSS, MSE, RMSE = regression_errors(y, yhat)\n",
    "    \n",
    "    # call function to SSE, MME, RMSE of baseline model\n",
    "    SSE_baseline, MSE_baseline, RMSE_baseline = baseline_mean_errors(y)\n",
    "    \n",
    "    # compare REMSE of model and baseline model\n",
    "    if RMSE < RMSE_baseline: \n",
    "        return True\n",
    "    else:\n",
    "        return False"
   ]
  },
  {
   "cell_type": "code",
   "execution_count": 31,
   "id": "17b9469c",
   "metadata": {},
   "outputs": [
    {
     "data": {
      "text/plain": [
       "True"
      ]
     },
     "execution_count": 31,
     "metadata": {},
     "output_type": "execute_result"
    }
   ],
   "source": [
    "better_than_baseline(preds['tax_value'], preds['yhat'])"
   ]
  },
  {
   "cell_type": "code",
   "execution_count": 32,
   "id": "ff950fd6",
   "metadata": {},
   "outputs": [
    {
     "data": {
      "image/png": "[encoded data removed]",
      "text/plain": [
       "<Figure size 640x480 with 1 Axes>"
      ]
     },
     "metadata": {},
     "output_type": "display_data"
    },
    {
     "data": {
      "text/plain": [
       "True"
      ]
     },
     "execution_count": 32,
     "metadata": {},
     "output_type": "execute_result"
    }
   ],
   "source": [
    "# check if evaluate.py works\n",
    "evaluate.plot_residuals(preds['tax_value'], preds['yhat'])\n",
    "evaluate.better_than_baseline(preds['tax_value'], preds['yhat'])"
   ]
  },
  {
   "cell_type": "code",
   "execution_count": null,
   "id": "4071ba0c",
   "metadata": {},
   "outputs": [],
   "source": []
  }
 ],
 "metadata": {
  "kernelspec": {
   "display_name": "Python 3 (ipykernel)",
   "language": "python",
   "name": "python3"
  },
  "language_info": {
   "codemirror_mode": {
    "name": "ipython",
    "version": 3
   },
   "file_extension": ".py",
   "mimetype": "text/x-python",
   "name": "python",
   "nbconvert_exporter": "python",
   "pygments_lexer": "ipython3",
   "version": "3.9.13"
  }
 },
 "nbformat": 4,
 "nbformat_minor": 5
}
