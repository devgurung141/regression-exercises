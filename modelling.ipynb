{
 "cells": [
  {
   "cell_type": "code",
   "execution_count": 1,
   "id": "37b2e319",
   "metadata": {},
   "outputs": [],
   "source": [
    "import pandas as pd\n",
    "import numpy as np\n",
    "\n",
    "import matplotlib.pyplot as plt\n",
    "import seaborn as sns\n",
    "import scipy.stats as stats\n",
    "\n",
    "from sklearn.linear_model import LinearRegression, LassoLars, TweedieRegressor\n",
    "from sklearn.metrics import mean_squared_error, r2_score, explained_variance_score\n",
    "from sklearn.preprocessing import MinMaxScaler, StandardScaler, RobustScaler, QuantileTransformer, PolynomialFeatures\n",
    "\n",
    "import wrangle\n",
    "import prepare\n",
    "\n",
    "\n",
    "import warnings\n",
    "warnings.filterwarnings(\"ignore\")\n",
    "\n",
    "%matplotlib inline\n",
    "\n"
   ]
  },
  {
   "cell_type": "code",
   "execution_count": 6,
   "id": "12953c5e",
   "metadata": {},
   "outputs": [
    {
     "data": {
      "text/plain": [
       "((26227, 8), (11241, 8), (9367, 8))"
      ]
     },
     "execution_count": 6,
     "metadata": {},
     "output_type": "execute_result"
    }
   ],
   "source": [
    "# acquire data and split data using a function from wrangle module\n",
    "train, validate, test = wrangle.wrangle_zillow()\n",
    "# get rows and columns\n",
    "train.shape, validate.shape, test.shape "
   ]
  },
  {
   "cell_type": "code",
   "execution_count": 8,
   "id": "444c86bf",
   "metadata": {},
   "outputs": [
    {
     "data": {
      "text/html": [
       "<div>\n",
       "<style scoped>\n",
       "    .dataframe tbody tr th:only-of-type {\n",
       "        vertical-align: middle;\n",
       "    }\n",
       "\n",
       "    .dataframe tbody tr th {\n",
       "        vertical-align: top;\n",
       "    }\n",
       "\n",
       "    .dataframe thead th {\n",
       "        text-align: right;\n",
       "    }\n",
       "</style>\n",
       "<table border=\"1\" class=\"dataframe\">\n",
       "  <thead>\n",
       "    <tr style=\"text-align: right;\">\n",
       "      <th></th>\n",
       "      <th>bathroom</th>\n",
       "      <th>bedroom</th>\n",
       "      <th>sqft</th>\n",
       "      <th>tax_amount</th>\n",
       "      <th>county</th>\n",
       "      <th>Los Angeles</th>\n",
       "      <th>Orange</th>\n",
       "      <th>Ventura</th>\n",
       "    </tr>\n",
       "  </thead>\n",
       "  <tbody>\n",
       "    <tr>\n",
       "      <th>24005</th>\n",
       "      <td>3.0</td>\n",
       "      <td>4.0</td>\n",
       "      <td>2815.0</td>\n",
       "      <td>349000.0</td>\n",
       "      <td>Los Angeles</td>\n",
       "      <td>1</td>\n",
       "      <td>0</td>\n",
       "      <td>0</td>\n",
       "    </tr>\n",
       "    <tr>\n",
       "      <th>10859</th>\n",
       "      <td>2.0</td>\n",
       "      <td>2.0</td>\n",
       "      <td>1973.0</td>\n",
       "      <td>793000.0</td>\n",
       "      <td>Los Angeles</td>\n",
       "      <td>1</td>\n",
       "      <td>0</td>\n",
       "      <td>0</td>\n",
       "    </tr>\n",
       "    <tr>\n",
       "      <th>40615</th>\n",
       "      <td>2.0</td>\n",
       "      <td>3.0</td>\n",
       "      <td>1517.0</td>\n",
       "      <td>127619.0</td>\n",
       "      <td>Los Angeles</td>\n",
       "      <td>1</td>\n",
       "      <td>0</td>\n",
       "      <td>0</td>\n",
       "    </tr>\n",
       "    <tr>\n",
       "      <th>44400</th>\n",
       "      <td>2.0</td>\n",
       "      <td>3.0</td>\n",
       "      <td>1316.0</td>\n",
       "      <td>488770.0</td>\n",
       "      <td>Los Angeles</td>\n",
       "      <td>1</td>\n",
       "      <td>0</td>\n",
       "      <td>0</td>\n",
       "    </tr>\n",
       "    <tr>\n",
       "      <th>47188</th>\n",
       "      <td>2.0</td>\n",
       "      <td>2.0</td>\n",
       "      <td>1416.0</td>\n",
       "      <td>305739.0</td>\n",
       "      <td>Orange</td>\n",
       "      <td>0</td>\n",
       "      <td>1</td>\n",
       "      <td>0</td>\n",
       "    </tr>\n",
       "  </tbody>\n",
       "</table>\n",
       "</div>"
      ],
      "text/plain": [
       "       bathroom  bedroom    sqft  tax_amount       county  Los Angeles  \\\n",
       "24005       3.0      4.0  2815.0    349000.0  Los Angeles            1   \n",
       "10859       2.0      2.0  1973.0    793000.0  Los Angeles            1   \n",
       "40615       2.0      3.0  1517.0    127619.0  Los Angeles            1   \n",
       "44400       2.0      3.0  1316.0    488770.0  Los Angeles            1   \n",
       "47188       2.0      2.0  1416.0    305739.0       Orange            0   \n",
       "\n",
       "       Orange  Ventura  \n",
       "24005       0        0  \n",
       "10859       0        0  \n",
       "40615       0        0  \n",
       "44400       0        0  \n",
       "47188       1        0  "
      ]
     },
     "execution_count": 8,
     "metadata": {},
     "output_type": "execute_result"
    }
   ],
   "source": [
    "# peak into data\n",
    "train.head()"
   ]
  },
  {
   "cell_type": "code",
   "execution_count": 9,
   "id": "03587bde",
   "metadata": {},
   "outputs": [],
   "source": [
    "# scale data\n",
    "train_scaled, validate_scaled, test_scaled= prepare.scale_data(train, validate, test, \n",
    "                                                       columns_to_scale=['bedroom', 'bathroom', 'sqft','Los Angeles','Orange', 'Ventura' ],\n",
    "                                                       return_scaler=False)"
   ]
  },
  {
   "cell_type": "code",
   "execution_count": 11,
   "id": "c73c85be",
   "metadata": {},
   "outputs": [
    {
     "data": {
      "text/html": [
       "<div>\n",
       "<style scoped>\n",
       "    .dataframe tbody tr th:only-of-type {\n",
       "        vertical-align: middle;\n",
       "    }\n",
       "\n",
       "    .dataframe tbody tr th {\n",
       "        vertical-align: top;\n",
       "    }\n",
       "\n",
       "    .dataframe thead th {\n",
       "        text-align: right;\n",
       "    }\n",
       "</style>\n",
       "<table border=\"1\" class=\"dataframe\">\n",
       "  <thead>\n",
       "    <tr style=\"text-align: right;\">\n",
       "      <th></th>\n",
       "      <th>bathroom</th>\n",
       "      <th>bedroom</th>\n",
       "      <th>sqft</th>\n",
       "      <th>tax_amount</th>\n",
       "      <th>county</th>\n",
       "      <th>Los Angeles</th>\n",
       "      <th>Orange</th>\n",
       "      <th>Ventura</th>\n",
       "    </tr>\n",
       "  </thead>\n",
       "  <tbody>\n",
       "    <tr>\n",
       "      <th>24005</th>\n",
       "      <td>0.666667</td>\n",
       "      <td>0.75</td>\n",
       "      <td>0.698418</td>\n",
       "      <td>349000.0</td>\n",
       "      <td>Los Angeles</td>\n",
       "      <td>1.0</td>\n",
       "      <td>0.0</td>\n",
       "      <td>0.0</td>\n",
       "    </tr>\n",
       "    <tr>\n",
       "      <th>10859</th>\n",
       "      <td>0.333333</td>\n",
       "      <td>0.25</td>\n",
       "      <td>0.420897</td>\n",
       "      <td>793000.0</td>\n",
       "      <td>Los Angeles</td>\n",
       "      <td>1.0</td>\n",
       "      <td>0.0</td>\n",
       "      <td>0.0</td>\n",
       "    </tr>\n",
       "    <tr>\n",
       "      <th>40615</th>\n",
       "      <td>0.333333</td>\n",
       "      <td>0.50</td>\n",
       "      <td>0.270600</td>\n",
       "      <td>127619.0</td>\n",
       "      <td>Los Angeles</td>\n",
       "      <td>1.0</td>\n",
       "      <td>0.0</td>\n",
       "      <td>0.0</td>\n",
       "    </tr>\n",
       "    <tr>\n",
       "      <th>44400</th>\n",
       "      <td>0.333333</td>\n",
       "      <td>0.50</td>\n",
       "      <td>0.204351</td>\n",
       "      <td>488770.0</td>\n",
       "      <td>Los Angeles</td>\n",
       "      <td>1.0</td>\n",
       "      <td>0.0</td>\n",
       "      <td>0.0</td>\n",
       "    </tr>\n",
       "    <tr>\n",
       "      <th>47188</th>\n",
       "      <td>0.333333</td>\n",
       "      <td>0.25</td>\n",
       "      <td>0.237310</td>\n",
       "      <td>305739.0</td>\n",
       "      <td>Orange</td>\n",
       "      <td>0.0</td>\n",
       "      <td>1.0</td>\n",
       "      <td>0.0</td>\n",
       "    </tr>\n",
       "  </tbody>\n",
       "</table>\n",
       "</div>"
      ],
      "text/plain": [
       "       bathroom  bedroom      sqft  tax_amount       county  Los Angeles  \\\n",
       "24005  0.666667     0.75  0.698418    349000.0  Los Angeles          1.0   \n",
       "10859  0.333333     0.25  0.420897    793000.0  Los Angeles          1.0   \n",
       "40615  0.333333     0.50  0.270600    127619.0  Los Angeles          1.0   \n",
       "44400  0.333333     0.50  0.204351    488770.0  Los Angeles          1.0   \n",
       "47188  0.333333     0.25  0.237310    305739.0       Orange          0.0   \n",
       "\n",
       "       Orange  Ventura  \n",
       "24005     0.0      0.0  \n",
       "10859     0.0      0.0  \n",
       "40615     0.0      0.0  \n",
       "44400     0.0      0.0  \n",
       "47188     1.0      0.0  "
      ]
     },
     "execution_count": 11,
     "metadata": {},
     "output_type": "execute_result"
    }
   ],
   "source": [
    "#. peak into scaled data\n",
    "train_scaled.head()"
   ]
  },
  {
   "cell_type": "code",
   "execution_count": 13,
   "id": "b5429f64",
   "metadata": {},
   "outputs": [],
   "source": [
    "#create a function to isolate the target variable\n",
    "def X_y_split(train, validate, test, target):\n",
    "    '''\n",
    "    takes in a dataframe and a target variable\n",
    "    returns the X_train, y_train, X_validate, y_validate, X_test, y_test\n",
    "    '''  \n",
    "\n",
    "\n",
    "    X_train = train.drop(columns= ['county', 'tax_amount'])\n",
    "    y_train = train[[target]]\n",
    "\n",
    "    X_validate = validate.drop(columns= ['county', 'tax_amount'])\n",
    "    y_validate = validate[[target]]\n",
    "\n",
    "    X_test = test.drop(columns= ['county', 'tax_amount'])\n",
    "    y_test = test[[target]]\n",
    "        \n",
    "    return X_train, y_train, X_validate, y_validate, X_test, y_test\n"
   ]
  },
  {
   "cell_type": "code",
   "execution_count": 14,
   "id": "984e8249",
   "metadata": {},
   "outputs": [],
   "source": [
    "# create attributes\n",
    "\n",
    "X_train, y_train, X_validate, y_validate, X_test, y_test = X_y_split(train_scaled, validate_scaled, test_scaled, 'tax_amount')"
   ]
  },
  {
   "cell_type": "code",
   "execution_count": 15,
   "id": "5f7a2396",
   "metadata": {},
   "outputs": [],
   "source": [
    "def get_rmse_mean(train,validate, target):\n",
    "    train['baseline_mean'] = train[target].mean()\n",
    "    validate['baseline_mean'] = train[target].mean()\n",
    "    train_RMSE_mean  = mean_squared_error(train[target], train['baseline_mean'], squared=False )\n",
    "    validae_RMSE_mean = mean_squared_error(validate[target], validate['baseline_mean'], squared=False )\n",
    "    print('RMSE using mean')\n",
    "    print(F'train_RMSE: {train_RMSE_mean}')\n",
    "    print(f'validate RMSE: {validae_RMSE_mean}')\n",
    "    return train_RMSE_mean, validae_RMSE_mean"
   ]
  },
  {
   "cell_type": "code",
   "execution_count": 43,
   "id": "30010111",
   "metadata": {},
   "outputs": [
    {
     "name": "stdout",
     "output_type": "stream",
     "text": [
      "RMSE using mean\n",
      "train_RMSE: 282783.9723515096\n",
      "validate RMSE: 276920.1915397434\n"
     ]
    }
   ],
   "source": [
    "train_rmse_mean, validate_rmse_mean  = get_rmse_mean(train, validate,'tax_amount')"
   ]
  },
  {
   "cell_type": "code",
   "execution_count": 44,
   "id": "4eca1bf8",
   "metadata": {},
   "outputs": [],
   "source": [
    "\n",
    "def get_rmse_median(train,validate, target):\n",
    "    train['baseline_median'] = train[target].median()\n",
    "    validate['baseline_median'] = validate[target].median()\n",
    "    train_RMSE_median  = mean_squared_error(train[target], train['baseline_median'], squared=False )\n",
    "    validae_RMSE_median = mean_squared_error(validate[target], validate['baseline_median'], squared=False )\n",
    "    print('RMSE using median')\n",
    "    print(F'train_RMSE: {train_RMSE_median}')\n",
    "    print(f'validate RMSE: {validae_RMSE_median}')\n",
    "    return train_RMSE_median, validae_RMSE_median"
   ]
  },
  {
   "cell_type": "code",
   "execution_count": 45,
   "id": "3018d913",
   "metadata": {},
   "outputs": [
    {
     "name": "stdout",
     "output_type": "stream",
     "text": [
      "RMSE using median\n",
      "train_RMSE: 287882.6226479039\n",
      "validate RMSE: 281169.87292888097\n"
     ]
    }
   ],
   "source": [
    "train_rmse_median, validate_rmse_median  = get_rmse_median(train, validate,'tax_amount')"
   ]
  },
  {
   "cell_type": "code",
   "execution_count": 46,
   "id": "527ab823",
   "metadata": {},
   "outputs": [],
   "source": [
    "\n",
    "def get_linear_regression(X_train,y_train,X_validate,y_validate, target):\n",
    "    # create the model object\n",
    "    lm = LinearRegression()  \n",
    "    # Fit the model\n",
    "    lm.fit(X_train, y_train[target])   \n",
    "    # Predict train\n",
    "    y_train['prediction_OLS'] = lm.predict(X_train)\n",
    "    # predict validate \n",
    "    y_validate['prediction_OLS'] = lm.predict(X_validate)  \n",
    "    # evaluate train RMSE\n",
    "    rmse_train = round (mean_squared_error(y_train[target], y_train['prediction_OLS'],squared=False ), 2)\n",
    "    # evaluate validate rmse\n",
    "    rmse_validate = round (mean_squared_error(y_validate[target], y_validate['prediction_OLS'],squared=False), 2)\n",
    "    \n",
    "    return rmse_train, rmse_validate\n"
   ]
  },
  {
   "cell_type": "code",
   "execution_count": 47,
   "id": "295c7d5d",
   "metadata": {},
   "outputs": [
    {
     "data": {
      "text/plain": [
       "(245858.1, 241315.04)"
      ]
     },
     "execution_count": 47,
     "metadata": {},
     "output_type": "execute_result"
    }
   ],
   "source": [
    "rmse_lm_train, rmse_lm_validate = get_linear_regression(X_train,y_train,X_validate,y_validate, 'tax_amount')\n",
    "rmse_lm_train, rmse_lm_validate"
   ]
  },
  {
   "cell_type": "code",
   "execution_count": 48,
   "id": "a6734229",
   "metadata": {},
   "outputs": [],
   "source": [
    "def get_lassoLars(X_train,y_train,X_validate,y_validate, target, alpha):\n",
    "    # create the model object\n",
    "    lars = LassoLars(alpha)  \n",
    "    # Fit the model\n",
    "    lars.fit(X_train, y_train[target])   \n",
    "    # Predict train\n",
    "    y_train['prediction_lassoLars'] = lars.predict(X_train)\n",
    "    # predict validate \n",
    "    y_validate['prediction_lassoLars'] = lars.predict(X_validate)  \n",
    "    # evaluate train RMSE\n",
    "    rmse_train = round (mean_squared_error(y_train[target], y_train['prediction_lassoLars'],squared=False ), 2)\n",
    "    # evaluate validate rmse\n",
    "    rmse_validate = round (mean_squared_error(y_validate[target], y_validate['prediction_lassoLars'],squared=False), 2)\n",
    "    \n",
    "    return rmse_train, rmse_validate\n",
    "    "
   ]
  },
  {
   "cell_type": "code",
   "execution_count": 49,
   "id": "69c77fd5",
   "metadata": {},
   "outputs": [
    {
     "data": {
      "text/html": [
       "<div>\n",
       "<style scoped>\n",
       "    .dataframe tbody tr th:only-of-type {\n",
       "        vertical-align: middle;\n",
       "    }\n",
       "\n",
       "    .dataframe tbody tr th {\n",
       "        vertical-align: top;\n",
       "    }\n",
       "\n",
       "    .dataframe thead th {\n",
       "        text-align: right;\n",
       "    }\n",
       "</style>\n",
       "<table border=\"1\" class=\"dataframe\">\n",
       "  <thead>\n",
       "    <tr style=\"text-align: right;\">\n",
       "      <th></th>\n",
       "      <th>alpha</th>\n",
       "      <th>rmse_train</th>\n",
       "      <th>rmse_validate</th>\n",
       "      <th>rmse_differnce</th>\n",
       "    </tr>\n",
       "  </thead>\n",
       "  <tbody>\n",
       "    <tr>\n",
       "      <th>0</th>\n",
       "      <td>0</td>\n",
       "      <td>245849.76</td>\n",
       "      <td>241300.19</td>\n",
       "      <td>4549.57</td>\n",
       "    </tr>\n",
       "    <tr>\n",
       "      <th>1</th>\n",
       "      <td>1</td>\n",
       "      <td>245849.76</td>\n",
       "      <td>241300.05</td>\n",
       "      <td>4549.71</td>\n",
       "    </tr>\n",
       "    <tr>\n",
       "      <th>2</th>\n",
       "      <td>2</td>\n",
       "      <td>245849.76</td>\n",
       "      <td>241299.91</td>\n",
       "      <td>4549.85</td>\n",
       "    </tr>\n",
       "    <tr>\n",
       "      <th>3</th>\n",
       "      <td>3</td>\n",
       "      <td>245849.77</td>\n",
       "      <td>241299.77</td>\n",
       "      <td>4550.00</td>\n",
       "    </tr>\n",
       "    <tr>\n",
       "      <th>4</th>\n",
       "      <td>4</td>\n",
       "      <td>245849.77</td>\n",
       "      <td>241299.63</td>\n",
       "      <td>4550.14</td>\n",
       "    </tr>\n",
       "    <tr>\n",
       "      <th>5</th>\n",
       "      <td>5</td>\n",
       "      <td>245849.77</td>\n",
       "      <td>241299.49</td>\n",
       "      <td>4550.28</td>\n",
       "    </tr>\n",
       "    <tr>\n",
       "      <th>6</th>\n",
       "      <td>6</td>\n",
       "      <td>245849.77</td>\n",
       "      <td>241299.35</td>\n",
       "      <td>4550.42</td>\n",
       "    </tr>\n",
       "    <tr>\n",
       "      <th>7</th>\n",
       "      <td>7</td>\n",
       "      <td>245849.78</td>\n",
       "      <td>241299.22</td>\n",
       "      <td>4550.56</td>\n",
       "    </tr>\n",
       "    <tr>\n",
       "      <th>8</th>\n",
       "      <td>8</td>\n",
       "      <td>245849.78</td>\n",
       "      <td>241299.08</td>\n",
       "      <td>4550.70</td>\n",
       "    </tr>\n",
       "    <tr>\n",
       "      <th>9</th>\n",
       "      <td>9</td>\n",
       "      <td>245849.79</td>\n",
       "      <td>241298.94</td>\n",
       "      <td>4550.85</td>\n",
       "    </tr>\n",
       "    <tr>\n",
       "      <th>10</th>\n",
       "      <td>10</td>\n",
       "      <td>245849.79</td>\n",
       "      <td>241298.81</td>\n",
       "      <td>4550.98</td>\n",
       "    </tr>\n",
       "  </tbody>\n",
       "</table>\n",
       "</div>"
      ],
      "text/plain": [
       "    alpha  rmse_train  rmse_validate  rmse_differnce\n",
       "0       0   245849.76      241300.19         4549.57\n",
       "1       1   245849.76      241300.05         4549.71\n",
       "2       2   245849.76      241299.91         4549.85\n",
       "3       3   245849.77      241299.77         4550.00\n",
       "4       4   245849.77      241299.63         4550.14\n",
       "5       5   245849.77      241299.49         4550.28\n",
       "6       6   245849.77      241299.35         4550.42\n",
       "7       7   245849.78      241299.22         4550.56\n",
       "8       8   245849.78      241299.08         4550.70\n",
       "9       9   245849.79      241298.94         4550.85\n",
       "10     10   245849.79      241298.81         4550.98"
      ]
     },
     "execution_count": 49,
     "metadata": {},
     "output_type": "execute_result"
    }
   ],
   "source": [
    "lassoLars_alpha = []\n",
    "lassoLars_rmse_train = []\n",
    "lassoLars_rmse_validate = []\n",
    "for i in range(0,11): \n",
    "    rmse_train, rmse_validate = get_lassoLars(X_train,y_train,X_validate,y_validate, 'tax_amount', alpha=i)\n",
    "    lassoLars_alpha.append(i)\n",
    "    lassoLars_rmse_train.append(rmse_train)\n",
    "    lassoLars_rmse_validate.append(rmse_validate)\n",
    "    \n",
    "lassoLars_df = pd.DataFrame({'alpha': lassoLars_alpha,\n",
    "                            'rmse_train': lassoLars_rmse_train,\n",
    "                            'rmse_validate': lassoLars_rmse_validate})\n",
    "    \n",
    "lassoLars_df['rmse_differnce'] =  lassoLars_df['rmse_train'] - lassoLars_df['rmse_validate']\n",
    "lassoLars_df"
   ]
  },
  {
   "cell_type": "code",
   "execution_count": 50,
   "id": "4b81d2b4",
   "metadata": {},
   "outputs": [
    {
     "data": {
      "text/plain": [
       "(245849.76, 241300.05)"
      ]
     },
     "execution_count": 50,
     "metadata": {},
     "output_type": "execute_result"
    }
   ],
   "source": [
    "rmse_lars_train, rmse_lars_validate = get_lassoLars(X_train,y_train,X_validate,y_validate, 'tax_amount', 1)\n",
    "rmse_lars_train, rmse_lars_validate"
   ]
  },
  {
   "cell_type": "code",
   "execution_count": 51,
   "id": "639e33b5",
   "metadata": {},
   "outputs": [],
   "source": [
    "def get_tweedie(X_train,y_train,X_validate,y_validate, target, power, alpha):\n",
    "    # create the model object\n",
    "    glm = TweedieRegressor(power=power, alpha=alpha)\n",
    "    # Fit the model\n",
    "    glm.fit(X_train, y_train[target])   \n",
    "    # Predict train\n",
    "    y_train['prediction_GLM'] = glm.predict(X_train)\n",
    "    # predict validate \n",
    "    y_validate['prediction_GLM'] = glm.predict(X_validate)  \n",
    "    # evaluate train RMSE\n",
    "    rmse_train = round (mean_squared_error(y_train[target], y_train['prediction_GLM'],squared=False ), 2)\n",
    "    # evaluate validate rmse\n",
    "    rmse_validate = round (mean_squared_error(y_validate[target], y_validate['prediction_GLM'],squared=False), 2)\n",
    "    \n",
    "    return rmse_train, rmse_validate\n",
    "    "
   ]
  },
  {
   "cell_type": "code",
   "execution_count": 52,
   "id": "3e4663bc",
   "metadata": {},
   "outputs": [
    {
     "data": {
      "text/html": [
       "<div>\n",
       "<style scoped>\n",
       "    .dataframe tbody tr th:only-of-type {\n",
       "        vertical-align: middle;\n",
       "    }\n",
       "\n",
       "    .dataframe tbody tr th {\n",
       "        vertical-align: top;\n",
       "    }\n",
       "\n",
       "    .dataframe thead th {\n",
       "        text-align: right;\n",
       "    }\n",
       "</style>\n",
       "<table border=\"1\" class=\"dataframe\">\n",
       "  <thead>\n",
       "    <tr style=\"text-align: right;\">\n",
       "      <th></th>\n",
       "      <th>alpha</th>\n",
       "      <th>rmse_train</th>\n",
       "      <th>rmse_validate</th>\n",
       "      <th>rmse_differnce</th>\n",
       "    </tr>\n",
       "  </thead>\n",
       "  <tbody>\n",
       "    <tr>\n",
       "      <th>0</th>\n",
       "      <td>0</td>\n",
       "      <td>245849.76</td>\n",
       "      <td>241300.19</td>\n",
       "      <td>4549.57</td>\n",
       "    </tr>\n",
       "    <tr>\n",
       "      <th>1</th>\n",
       "      <td>1</td>\n",
       "      <td>276293.73</td>\n",
       "      <td>270618.83</td>\n",
       "      <td>5674.90</td>\n",
       "    </tr>\n",
       "    <tr>\n",
       "      <th>2</th>\n",
       "      <td>2</td>\n",
       "      <td>279099.60</td>\n",
       "      <td>273351.12</td>\n",
       "      <td>5748.48</td>\n",
       "    </tr>\n",
       "    <tr>\n",
       "      <th>3</th>\n",
       "      <td>3</td>\n",
       "      <td>280206.79</td>\n",
       "      <td>274425.71</td>\n",
       "      <td>5781.08</td>\n",
       "    </tr>\n",
       "    <tr>\n",
       "      <th>4</th>\n",
       "      <td>4</td>\n",
       "      <td>280801.45</td>\n",
       "      <td>275002.10</td>\n",
       "      <td>5799.35</td>\n",
       "    </tr>\n",
       "    <tr>\n",
       "      <th>5</th>\n",
       "      <td>5</td>\n",
       "      <td>281172.89</td>\n",
       "      <td>275361.87</td>\n",
       "      <td>5811.02</td>\n",
       "    </tr>\n",
       "    <tr>\n",
       "      <th>6</th>\n",
       "      <td>6</td>\n",
       "      <td>281427.02</td>\n",
       "      <td>275607.91</td>\n",
       "      <td>5819.11</td>\n",
       "    </tr>\n",
       "    <tr>\n",
       "      <th>7</th>\n",
       "      <td>7</td>\n",
       "      <td>281611.87</td>\n",
       "      <td>275786.81</td>\n",
       "      <td>5825.06</td>\n",
       "    </tr>\n",
       "    <tr>\n",
       "      <th>8</th>\n",
       "      <td>8</td>\n",
       "      <td>281752.37</td>\n",
       "      <td>275922.76</td>\n",
       "      <td>5829.61</td>\n",
       "    </tr>\n",
       "    <tr>\n",
       "      <th>9</th>\n",
       "      <td>9</td>\n",
       "      <td>281862.78</td>\n",
       "      <td>276029.58</td>\n",
       "      <td>5833.20</td>\n",
       "    </tr>\n",
       "    <tr>\n",
       "      <th>10</th>\n",
       "      <td>10</td>\n",
       "      <td>281951.84</td>\n",
       "      <td>276115.73</td>\n",
       "      <td>5836.11</td>\n",
       "    </tr>\n",
       "  </tbody>\n",
       "</table>\n",
       "</div>"
      ],
      "text/plain": [
       "    alpha  rmse_train  rmse_validate  rmse_differnce\n",
       "0       0   245849.76      241300.19         4549.57\n",
       "1       1   276293.73      270618.83         5674.90\n",
       "2       2   279099.60      273351.12         5748.48\n",
       "3       3   280206.79      274425.71         5781.08\n",
       "4       4   280801.45      275002.10         5799.35\n",
       "5       5   281172.89      275361.87         5811.02\n",
       "6       6   281427.02      275607.91         5819.11\n",
       "7       7   281611.87      275786.81         5825.06\n",
       "8       8   281752.37      275922.76         5829.61\n",
       "9       9   281862.78      276029.58         5833.20\n",
       "10     10   281951.84      276115.73         5836.11"
      ]
     },
     "execution_count": 52,
     "metadata": {},
     "output_type": "execute_result"
    }
   ],
   "source": [
    "tweedie_alpha = []\n",
    "tweedie_rmse_train = []\n",
    "tweedie_rmse_validate = []\n",
    "for i in range(0,11): \n",
    "    rmse_train, rmse_validate = get_tweedie(X_train,y_train,X_validate,y_validate, 'tax_amount', power = 0, alpha=i)\n",
    "    tweedie_alpha.append(i)\n",
    "    tweedie_rmse_train.append(rmse_train)\n",
    "    tweedie_rmse_validate.append(rmse_validate)\n",
    "    \n",
    "tweedie_df = pd.DataFrame({'alpha': tweedie_alpha,\n",
    "                            'rmse_train': tweedie_rmse_train,\n",
    "                            'rmse_validate': tweedie_rmse_validate})\n",
    "    \n",
    "tweedie_df['rmse_differnce'] =  tweedie_df['rmse_train'] - tweedie_df['rmse_validate']\n",
    "tweedie_df"
   ]
  },
  {
   "cell_type": "code",
   "execution_count": 53,
   "id": "5fb5b070",
   "metadata": {},
   "outputs": [
    {
     "data": {
      "text/plain": [
       "(245395.21, 240971.32)"
      ]
     },
     "execution_count": 53,
     "metadata": {},
     "output_type": "execute_result"
    }
   ],
   "source": [
    "rmse_glm_train, rmse_glm_validate = get_tweedie(X_train,y_train,X_validate,y_validate, 'tax_amount', 1, 0)\n",
    "rmse_glm_train, rmse_glm_validate"
   ]
  },
  {
   "cell_type": "code",
   "execution_count": 54,
   "id": "5d4af946",
   "metadata": {},
   "outputs": [],
   "source": [
    "def get_polynomial(X_train,y_train,X_validate,y_validate, target, degree):\n",
    "    \n",
    "    # make the polynomial features to get a new set of features\n",
    "    pf = PolynomialFeatures(degree)\n",
    "\n",
    "    # fit and transform X_train_scaled\n",
    "    X_train_degree2 = pf.fit_transform(X_train)\n",
    "\n",
    "    # transform X_validate_scaled \n",
    "    X_validate_degree2 = pf.transform(X_validate)\n",
    "    \n",
    "    # create the model object\n",
    "    lm2 = LinearRegression()\n",
    "    # Fit the model\n",
    "    lm2.fit(X_train_degree2, y_train[target])   \n",
    "    # Predict train\n",
    "    y_train['prediction_polynomial'] = lm2.predict(X_train_degree2)\n",
    "    # predict validate \n",
    "    y_validate['prediction_polynomial'] = lm2.predict(X_validate_degree2)  \n",
    "    # evaluate train RMSE\n",
    "    rmse_train = round (mean_squared_error(y_train[target], y_train['prediction_polynomial'],squared=False ), 2)\n",
    "    # evaluate validate rmse\n",
    "    rmse_validate = round (mean_squared_error(y_validate[target], y_validate['prediction_polynomial'],squared=False), 2)\n",
    "    \n",
    "    return rmse_train, rmse_validate"
   ]
  },
  {
   "cell_type": "code",
   "execution_count": 55,
   "id": "21181916",
   "metadata": {},
   "outputs": [
    {
     "data": {
      "text/html": [
       "<div>\n",
       "<style scoped>\n",
       "    .dataframe tbody tr th:only-of-type {\n",
       "        vertical-align: middle;\n",
       "    }\n",
       "\n",
       "    .dataframe tbody tr th {\n",
       "        vertical-align: top;\n",
       "    }\n",
       "\n",
       "    .dataframe thead th {\n",
       "        text-align: right;\n",
       "    }\n",
       "</style>\n",
       "<table border=\"1\" class=\"dataframe\">\n",
       "  <thead>\n",
       "    <tr style=\"text-align: right;\">\n",
       "      <th></th>\n",
       "      <th>degree</th>\n",
       "      <th>rmse_train</th>\n",
       "      <th>rmse_validate</th>\n",
       "      <th>rmse_differnce</th>\n",
       "    </tr>\n",
       "  </thead>\n",
       "  <tbody>\n",
       "    <tr>\n",
       "      <th>0</th>\n",
       "      <td>1</td>\n",
       "      <td>245852.46</td>\n",
       "      <td>241306.56</td>\n",
       "      <td>4545.90</td>\n",
       "    </tr>\n",
       "    <tr>\n",
       "      <th>1</th>\n",
       "      <td>2</td>\n",
       "      <td>244804.26</td>\n",
       "      <td>240194.08</td>\n",
       "      <td>4610.18</td>\n",
       "    </tr>\n",
       "    <tr>\n",
       "      <th>2</th>\n",
       "      <td>3</td>\n",
       "      <td>244184.80</td>\n",
       "      <td>239871.32</td>\n",
       "      <td>4313.48</td>\n",
       "    </tr>\n",
       "    <tr>\n",
       "      <th>3</th>\n",
       "      <td>4</td>\n",
       "      <td>243940.20</td>\n",
       "      <td>240000.67</td>\n",
       "      <td>3939.53</td>\n",
       "    </tr>\n",
       "  </tbody>\n",
       "</table>\n",
       "</div>"
      ],
      "text/plain": [
       "   degree  rmse_train  rmse_validate  rmse_differnce\n",
       "0       1   245852.46      241306.56         4545.90\n",
       "1       2   244804.26      240194.08         4610.18\n",
       "2       3   244184.80      239871.32         4313.48\n",
       "3       4   243940.20      240000.67         3939.53"
      ]
     },
     "execution_count": 55,
     "metadata": {},
     "output_type": "execute_result"
    }
   ],
   "source": [
    "polynomial_degree = []\n",
    "polynomial_rmse_train = []\n",
    "polynomial_rmse_validate = []\n",
    "for i in range(1,5): \n",
    "    rmse_train, rmse_validate = get_polynomial(X_train,y_train,X_validate,y_validate, 'tax_amount', degree=i)\n",
    "    polynomial_degree.append(i)\n",
    "    polynomial_rmse_train.append(rmse_train)\n",
    "    polynomial_rmse_validate.append(rmse_validate)\n",
    "    \n",
    "polynomial_df = pd.DataFrame({'degree': polynomial_degree,\n",
    "                            'rmse_train': polynomial_rmse_train,\n",
    "                            'rmse_validate': polynomial_rmse_validate})\n",
    "    \n",
    "polynomial_df['rmse_differnce'] =  polynomial_df['rmse_train'] - polynomial_df['rmse_validate']\n",
    "polynomial_df"
   ]
  },
  {
   "cell_type": "code",
   "execution_count": 56,
   "id": "639810b6",
   "metadata": {},
   "outputs": [
    {
     "data": {
      "text/plain": [
       "(244184.8, 239871.32)"
      ]
     },
     "execution_count": 56,
     "metadata": {},
     "output_type": "execute_result"
    }
   ],
   "source": [
    "rmse_poly_train, rmse_poly_validate= get_polynomial(X_train,y_train,X_validate,y_validate,'tax_amount', 3)\n",
    "rmse_poly_train, rmse_poly_validate"
   ]
  },
  {
   "cell_type": "code",
   "execution_count": 57,
   "id": "c89c1e4f",
   "metadata": {},
   "outputs": [
    {
     "data": {
      "text/plain": [
       "(245395.21, 240971.32)"
      ]
     },
     "execution_count": 57,
     "metadata": {},
     "output_type": "execute_result"
    }
   ],
   "source": [
    "rmse_glm_train, rmse_glm_validate = get_tweedie(X_train,y_train,X_validate,y_validate,'tax_amount', 1, 0)\n",
    "rmse_glm_train, rmse_glm_validate"
   ]
  },
  {
   "cell_type": "code",
   "execution_count": 58,
   "id": "480c6ace",
   "metadata": {},
   "outputs": [
    {
     "data": {
      "text/plain": [
       "(245849.76, 241300.05)"
      ]
     },
     "execution_count": 58,
     "metadata": {},
     "output_type": "execute_result"
    }
   ],
   "source": [
    "rmse_lars_train, rmse_lars_validate = get_lassoLars(X_train,y_train,X_validate,y_validate, 'tax_amount', 1)\n",
    "rmse_lars_train, rmse_lars_validate"
   ]
  },
  {
   "cell_type": "code",
   "execution_count": 59,
   "id": "0b57b56e",
   "metadata": {},
   "outputs": [
    {
     "data": {
      "text/plain": [
       "(245858.1, 241315.04)"
      ]
     },
     "execution_count": 59,
     "metadata": {},
     "output_type": "execute_result"
    }
   ],
   "source": [
    "rmse_lm_train, rmse_lm_validate = get_linear_regression(X_train,y_train,X_validate,y_validate, 'tax_amount')\n",
    "rmse_lm_train, rmse_lm_validate"
   ]
  },
  {
   "cell_type": "code",
   "execution_count": 60,
   "id": "dfa67c25",
   "metadata": {},
   "outputs": [
    {
     "data": {
      "text/html": [
       "<div>\n",
       "<style scoped>\n",
       "    .dataframe tbody tr th:only-of-type {\n",
       "        vertical-align: middle;\n",
       "    }\n",
       "\n",
       "    .dataframe tbody tr th {\n",
       "        vertical-align: top;\n",
       "    }\n",
       "\n",
       "    .dataframe thead th {\n",
       "        text-align: right;\n",
       "    }\n",
       "</style>\n",
       "<table border=\"1\" class=\"dataframe\">\n",
       "  <thead>\n",
       "    <tr style=\"text-align: right;\">\n",
       "      <th></th>\n",
       "      <th>model</th>\n",
       "      <th>train_RMSE</th>\n",
       "      <th>validate_RMSE</th>\n",
       "      <th>difference</th>\n",
       "    </tr>\n",
       "  </thead>\n",
       "  <tbody>\n",
       "    <tr>\n",
       "      <th>0</th>\n",
       "      <td>baseline</td>\n",
       "      <td>282783.972352</td>\n",
       "      <td>276920.19154</td>\n",
       "      <td>5863.780812</td>\n",
       "    </tr>\n",
       "    <tr>\n",
       "      <th>1</th>\n",
       "      <td>LinearRegreesion</td>\n",
       "      <td>245858.100000</td>\n",
       "      <td>241315.04000</td>\n",
       "      <td>4543.060000</td>\n",
       "    </tr>\n",
       "    <tr>\n",
       "      <th>2</th>\n",
       "      <td>LassoLars(alpha=1)</td>\n",
       "      <td>245849.760000</td>\n",
       "      <td>241300.05000</td>\n",
       "      <td>4549.710000</td>\n",
       "    </tr>\n",
       "    <tr>\n",
       "      <th>3</th>\n",
       "      <td>TweedieRegreesor(power=0, alpha=0)</td>\n",
       "      <td>245395.210000</td>\n",
       "      <td>240971.32000</td>\n",
       "      <td>4423.890000</td>\n",
       "    </tr>\n",
       "    <tr>\n",
       "      <th>4</th>\n",
       "      <td>Polynomial Regression(degree=3)</td>\n",
       "      <td>244184.800000</td>\n",
       "      <td>239871.32000</td>\n",
       "      <td>4313.480000</td>\n",
       "    </tr>\n",
       "  </tbody>\n",
       "</table>\n",
       "</div>"
      ],
      "text/plain": [
       "                                model     train_RMSE  validate_RMSE  \\\n",
       "0                            baseline  282783.972352   276920.19154   \n",
       "1                    LinearRegreesion  245858.100000   241315.04000   \n",
       "2                  LassoLars(alpha=1)  245849.760000   241300.05000   \n",
       "3  TweedieRegreesor(power=0, alpha=0)  245395.210000   240971.32000   \n",
       "4     Polynomial Regression(degree=3)  244184.800000   239871.32000   \n",
       "\n",
       "    difference  \n",
       "0  5863.780812  \n",
       "1  4543.060000  \n",
       "2  4549.710000  \n",
       "3  4423.890000  \n",
       "4  4313.480000  "
      ]
     },
     "execution_count": 60,
     "metadata": {},
     "output_type": "execute_result"
    }
   ],
   "source": [
    "metric_df = pd.DataFrame({'model': ['baseline', 'LinearRegreesion', 'LassoLars(alpha=1)', 'TweedieRegreesor(power=0, alpha=0)','Polynomial Regression(degree=3)'],\n",
    "                         'train_RMSE': [train_rmse_mean, rmse_lm_train, rmse_lars_train, rmse_glm_train, rmse_poly_train],\n",
    "                         'validate_RMSE': [validate_rmse_mean, rmse_lm_validate, rmse_lars_validate, rmse_glm_validate, rmse_poly_validate]})\n",
    "metric_df['difference'] = metric_df['train_RMSE'] - metric_df['validate_RMSE']\n",
    "metric_df"
   ]
  },
  {
   "cell_type": "code",
   "execution_count": 61,
   "id": "f8b5a619",
   "metadata": {},
   "outputs": [],
   "source": [
    "def get_polynomial_test(X_train,y_train,X_test,y_test, target, degree):\n",
    "    \n",
    "    # make the polynomial features to get a new set of features\n",
    "    pf = PolynomialFeatures(degree)\n",
    "\n",
    "    # fit and transform X_train_scaled\n",
    "    X_train_degree = pf.fit_transform(X_train)\n",
    "\n",
    "    # transform X_validate_scaled \n",
    "    X_test_degree = pf.transform(X_test)\n",
    "    \n",
    "    # create the model object\n",
    "    lm = LinearRegression()\n",
    "    # Fit the model\n",
    "    lm.fit(X_train_degree, y_train[target])   \n",
    "\n",
    "    # predict test \n",
    "    y_test['prediction_polynomial_test'] = lm.predict(X_test_degree)  \n",
    "    # evaluate test rmse\n",
    "    rmse_test = round (mean_squared_error(y_test[target], y_test['prediction_polynomial_test'],squared=False), 2)\n",
    "    r2 = explained_variance_score(y_test[target], y_test['prediction_polynomial_test'])\n",
    "    print('Using polynomial Regresion on test')\n",
    "    print(f'RMSE : { rmse_test}')\n",
    "    print(f'r2 : {r2}')\n",
    "    return  rmse_test"
   ]
  },
  {
   "cell_type": "code",
   "execution_count": 62,
   "id": "7230ee36",
   "metadata": {},
   "outputs": [
    {
     "name": "stdout",
     "output_type": "stream",
     "text": [
      "Using polynomial Regresion on test\n",
      "RMSE : 243328.52\n",
      "r2 : 0.25385988399720893\n"
     ]
    },
    {
     "data": {
      "text/plain": [
       "243328.52"
      ]
     },
     "execution_count": 62,
     "metadata": {},
     "output_type": "execute_result"
    }
   ],
   "source": [
    "get_polynomial_test(X_train,y_train,X_test,y_test, 'tax_amount', 3)\n"
   ]
  },
  {
   "cell_type": "code",
   "execution_count": 63,
   "id": "61d46081",
   "metadata": {},
   "outputs": [
    {
     "data": {
      "text/html": [
       "<div>\n",
       "<style scoped>\n",
       "    .dataframe tbody tr th:only-of-type {\n",
       "        vertical-align: middle;\n",
       "    }\n",
       "\n",
       "    .dataframe tbody tr th {\n",
       "        vertical-align: top;\n",
       "    }\n",
       "\n",
       "    .dataframe thead th {\n",
       "        text-align: right;\n",
       "    }\n",
       "</style>\n",
       "<table border=\"1\" class=\"dataframe\">\n",
       "  <thead>\n",
       "    <tr style=\"text-align: right;\">\n",
       "      <th></th>\n",
       "      <th>tax_amount</th>\n",
       "      <th>prediction_polynomial_test</th>\n",
       "    </tr>\n",
       "  </thead>\n",
       "  <tbody>\n",
       "    <tr>\n",
       "      <th>14082</th>\n",
       "      <td>362126.0</td>\n",
       "      <td>454528.0</td>\n",
       "    </tr>\n",
       "    <tr>\n",
       "      <th>26213</th>\n",
       "      <td>105352.0</td>\n",
       "      <td>263808.0</td>\n",
       "    </tr>\n",
       "    <tr>\n",
       "      <th>18180</th>\n",
       "      <td>93148.0</td>\n",
       "      <td>324032.0</td>\n",
       "    </tr>\n",
       "    <tr>\n",
       "      <th>39421</th>\n",
       "      <td>616000.0</td>\n",
       "      <td>409408.0</td>\n",
       "    </tr>\n",
       "    <tr>\n",
       "      <th>44544</th>\n",
       "      <td>367771.0</td>\n",
       "      <td>290816.0</td>\n",
       "    </tr>\n",
       "    <tr>\n",
       "      <th>...</th>\n",
       "      <td>...</td>\n",
       "      <td>...</td>\n",
       "    </tr>\n",
       "    <tr>\n",
       "      <th>40800</th>\n",
       "      <td>585788.0</td>\n",
       "      <td>604992.0</td>\n",
       "    </tr>\n",
       "    <tr>\n",
       "      <th>41866</th>\n",
       "      <td>441655.0</td>\n",
       "      <td>657600.0</td>\n",
       "    </tr>\n",
       "    <tr>\n",
       "      <th>49496</th>\n",
       "      <td>784529.0</td>\n",
       "      <td>914368.0</td>\n",
       "    </tr>\n",
       "    <tr>\n",
       "      <th>12310</th>\n",
       "      <td>289169.0</td>\n",
       "      <td>449728.0</td>\n",
       "    </tr>\n",
       "    <tr>\n",
       "      <th>31178</th>\n",
       "      <td>275867.0</td>\n",
       "      <td>303488.0</td>\n",
       "    </tr>\n",
       "  </tbody>\n",
       "</table>\n",
       "<p>9367 rows × 2 columns</p>\n",
       "</div>"
      ],
      "text/plain": [
       "       tax_amount  prediction_polynomial_test\n",
       "14082    362126.0                    454528.0\n",
       "26213    105352.0                    263808.0\n",
       "18180     93148.0                    324032.0\n",
       "39421    616000.0                    409408.0\n",
       "44544    367771.0                    290816.0\n",
       "...           ...                         ...\n",
       "40800    585788.0                    604992.0\n",
       "41866    441655.0                    657600.0\n",
       "49496    784529.0                    914368.0\n",
       "12310    289169.0                    449728.0\n",
       "31178    275867.0                    303488.0\n",
       "\n",
       "[9367 rows x 2 columns]"
      ]
     },
     "execution_count": 63,
     "metadata": {},
     "output_type": "execute_result"
    }
   ],
   "source": [
    "y_test"
   ]
  },
  {
   "cell_type": "code",
   "execution_count": null,
   "id": "84d214ec",
   "metadata": {},
   "outputs": [],
   "source": []
  }
 ],
 "metadata": {
  "kernelspec": {
   "display_name": "Python 3 (ipykernel)",
   "language": "python",
   "name": "python3"
  },
  "language_info": {
   "codemirror_mode": {
    "name": "ipython",
    "version": 3
   },
   "file_extension": ".py",
   "mimetype": "text/x-python",
   "name": "python",
   "nbconvert_exporter": "python",
   "pygments_lexer": "ipython3",
   "version": "3.9.13"
  }
 },
 "nbformat": 4,
 "nbformat_minor": 5
}
