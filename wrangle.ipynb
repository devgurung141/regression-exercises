{
 "cells": [
  {
   "cell_type": "code",
   "execution_count": 1,
   "id": "25261cb4",
   "metadata": {},
   "outputs": [],
   "source": [
    "# imports\n",
    "\n",
    "\n",
    "import pandas as pd\n",
    "import numpy as np\n",
    "\n",
    "import matplotlib.pyplot as plt\n",
    "import seaborn as sns\n",
    "\n",
    "import os\n",
    "from env import get_connection\n",
    "\n",
    "from sklearn.model_selection import train_test_split\n",
    "\n",
    "import warnings\n",
    "warnings.filterwarnings(\"ignore\")"
   ]
  },
  {
   "cell_type": "code",
   "execution_count": 2,
   "id": "e4c5987f",
   "metadata": {},
   "outputs": [],
   "source": [
    "querry = \"\"\"\n",
    "       SELECT bedroomcnt, bathroomcnt, calculatedfinishedsquarefeet, taxvaluedollarcnt, yearbuilt, taxamount, fips, propertylandusetypeid FROM properties_2017\n",
    "JOIN propertylandusetype USING(propertylandusetypeid)\n",
    "WHERE propertylandusetypeid = 261;\n",
    "        \"\"\"\n",
    "\n",
    "def get_zillow_data():\n",
    "    '''\n",
    "    This function reads in zillow data from Codeup database using sql querry into a df, \n",
    "    writes data to a csv file if a local file doesn't exist, and return df and if a local file exists\n",
    "    return return df\n",
    "    '''\n",
    "    \n",
    "    filename = \"zillow_1.csv\"\n",
    "\n",
    "    if os.path.isfile(filename):\n",
    "        return pd.read_csv(filename)\n",
    "    else:\n",
    "        # read the SQL query into a dataframe\n",
    "        df = pd.read_sql(querry, get_connection('zillow'))\n",
    "\n",
    "        # Write that dataframe to disk for later. Called \"caching\" the data for later.\n",
    "        df.to_csv(filename, index=False)\n",
    "\n",
    "        # Return the dataframe to the calling code\n",
    "        return df  "
   ]
  },
  {
   "cell_type": "code",
   "execution_count": 3,
   "id": "f1f69101",
   "metadata": {},
   "outputs": [
    {
     "data": {
      "text/html": [
       "<div>\n",
       "<style scoped>\n",
       "    .dataframe tbody tr th:only-of-type {\n",
       "        vertical-align: middle;\n",
       "    }\n",
       "\n",
       "    .dataframe tbody tr th {\n",
       "        vertical-align: top;\n",
       "    }\n",
       "\n",
       "    .dataframe thead th {\n",
       "        text-align: right;\n",
       "    }\n",
       "</style>\n",
       "<table border=\"1\" class=\"dataframe\">\n",
       "  <thead>\n",
       "    <tr style=\"text-align: right;\">\n",
       "      <th></th>\n",
       "      <th>bedroomcnt</th>\n",
       "      <th>bathroomcnt</th>\n",
       "      <th>calculatedfinishedsquarefeet</th>\n",
       "      <th>taxvaluedollarcnt</th>\n",
       "      <th>yearbuilt</th>\n",
       "      <th>taxamount</th>\n",
       "      <th>fips</th>\n",
       "      <th>propertylandusetypeid</th>\n",
       "    </tr>\n",
       "  </thead>\n",
       "  <tbody>\n",
       "    <tr>\n",
       "      <th>0</th>\n",
       "      <td>0.0</td>\n",
       "      <td>0.0</td>\n",
       "      <td>NaN</td>\n",
       "      <td>27516.0</td>\n",
       "      <td>NaN</td>\n",
       "      <td>NaN</td>\n",
       "      <td>6037.0</td>\n",
       "      <td>261.0</td>\n",
       "    </tr>\n",
       "    <tr>\n",
       "      <th>1</th>\n",
       "      <td>0.0</td>\n",
       "      <td>0.0</td>\n",
       "      <td>NaN</td>\n",
       "      <td>10.0</td>\n",
       "      <td>NaN</td>\n",
       "      <td>NaN</td>\n",
       "      <td>6037.0</td>\n",
       "      <td>261.0</td>\n",
       "    </tr>\n",
       "    <tr>\n",
       "      <th>2</th>\n",
       "      <td>0.0</td>\n",
       "      <td>0.0</td>\n",
       "      <td>NaN</td>\n",
       "      <td>10.0</td>\n",
       "      <td>NaN</td>\n",
       "      <td>NaN</td>\n",
       "      <td>6037.0</td>\n",
       "      <td>261.0</td>\n",
       "    </tr>\n",
       "    <tr>\n",
       "      <th>3</th>\n",
       "      <td>0.0</td>\n",
       "      <td>0.0</td>\n",
       "      <td>NaN</td>\n",
       "      <td>2108.0</td>\n",
       "      <td>NaN</td>\n",
       "      <td>174.21</td>\n",
       "      <td>6037.0</td>\n",
       "      <td>261.0</td>\n",
       "    </tr>\n",
       "    <tr>\n",
       "      <th>4</th>\n",
       "      <td>4.0</td>\n",
       "      <td>2.0</td>\n",
       "      <td>3633.0</td>\n",
       "      <td>296425.0</td>\n",
       "      <td>2005.0</td>\n",
       "      <td>6941.39</td>\n",
       "      <td>6037.0</td>\n",
       "      <td>261.0</td>\n",
       "    </tr>\n",
       "  </tbody>\n",
       "</table>\n",
       "</div>"
      ],
      "text/plain": [
       "   bedroomcnt  bathroomcnt  calculatedfinishedsquarefeet  taxvaluedollarcnt  \\\n",
       "0         0.0          0.0                           NaN            27516.0   \n",
       "1         0.0          0.0                           NaN               10.0   \n",
       "2         0.0          0.0                           NaN               10.0   \n",
       "3         0.0          0.0                           NaN             2108.0   \n",
       "4         4.0          2.0                        3633.0           296425.0   \n",
       "\n",
       "   yearbuilt  taxamount    fips  propertylandusetypeid  \n",
       "0        NaN        NaN  6037.0                  261.0  \n",
       "1        NaN        NaN  6037.0                  261.0  \n",
       "2        NaN        NaN  6037.0                  261.0  \n",
       "3        NaN     174.21  6037.0                  261.0  \n",
       "4     2005.0    6941.39  6037.0                  261.0  "
      ]
     },
     "execution_count": 3,
     "metadata": {},
     "output_type": "execute_result"
    }
   ],
   "source": [
    "# acquire data using a function\n",
    "df = get_zillow_data()\n",
    "\n",
    "# peak into data\n",
    "df.head()"
   ]
  },
  {
   "cell_type": "code",
   "execution_count": 4,
   "id": "74504bee",
   "metadata": {},
   "outputs": [
    {
     "data": {
      "text/plain": [
       "(2152863, 8)"
      ]
     },
     "execution_count": 4,
     "metadata": {},
     "output_type": "execute_result"
    }
   ],
   "source": [
    "# get number of rows and columns\n",
    "df.shape"
   ]
  },
  {
   "cell_type": "code",
   "execution_count": 5,
   "id": "f67649f6",
   "metadata": {},
   "outputs": [],
   "source": [
    "# drop propertylandusetypeid\n",
    "df.drop(columns='propertylandusetypeid',inplace=True)"
   ]
  },
  {
   "cell_type": "code",
   "execution_count": 6,
   "id": "1e96677e",
   "metadata": {},
   "outputs": [],
   "source": [
    "# rename columns\n",
    "df = df.rename(columns= { 'bedroomcnt':'bedrooms',\n",
    "                         'bathroomcnt': 'bathrooms',\n",
    "                         'calculatedfinishedsquarefeet': 'sqft',\n",
    "                         'taxvaluedollarcnt': 'tax_value',\n",
    "                         'yearbuilt': 'year_built'\n",
    "                        })"
   ]
  },
  {
   "cell_type": "code",
   "execution_count": 7,
   "id": "af9c019c",
   "metadata": {},
   "outputs": [
    {
     "data": {
      "text/html": [
       "<div>\n",
       "<style scoped>\n",
       "    .dataframe tbody tr th:only-of-type {\n",
       "        vertical-align: middle;\n",
       "    }\n",
       "\n",
       "    .dataframe tbody tr th {\n",
       "        vertical-align: top;\n",
       "    }\n",
       "\n",
       "    .dataframe thead th {\n",
       "        text-align: right;\n",
       "    }\n",
       "</style>\n",
       "<table border=\"1\" class=\"dataframe\">\n",
       "  <thead>\n",
       "    <tr style=\"text-align: right;\">\n",
       "      <th></th>\n",
       "      <th>bedrooms</th>\n",
       "      <th>bathrooms</th>\n",
       "      <th>sqft</th>\n",
       "      <th>tax_value</th>\n",
       "      <th>year_built</th>\n",
       "      <th>taxamount</th>\n",
       "      <th>fips</th>\n",
       "    </tr>\n",
       "  </thead>\n",
       "  <tbody>\n",
       "    <tr>\n",
       "      <th>0</th>\n",
       "      <td>0.0</td>\n",
       "      <td>0.0</td>\n",
       "      <td>NaN</td>\n",
       "      <td>27516.0</td>\n",
       "      <td>NaN</td>\n",
       "      <td>NaN</td>\n",
       "      <td>6037.0</td>\n",
       "    </tr>\n",
       "    <tr>\n",
       "      <th>1</th>\n",
       "      <td>0.0</td>\n",
       "      <td>0.0</td>\n",
       "      <td>NaN</td>\n",
       "      <td>10.0</td>\n",
       "      <td>NaN</td>\n",
       "      <td>NaN</td>\n",
       "      <td>6037.0</td>\n",
       "    </tr>\n",
       "    <tr>\n",
       "      <th>2</th>\n",
       "      <td>0.0</td>\n",
       "      <td>0.0</td>\n",
       "      <td>NaN</td>\n",
       "      <td>10.0</td>\n",
       "      <td>NaN</td>\n",
       "      <td>NaN</td>\n",
       "      <td>6037.0</td>\n",
       "    </tr>\n",
       "  </tbody>\n",
       "</table>\n",
       "</div>"
      ],
      "text/plain": [
       "   bedrooms  bathrooms  sqft  tax_value  year_built  taxamount    fips\n",
       "0       0.0        0.0   NaN    27516.0         NaN        NaN  6037.0\n",
       "1       0.0        0.0   NaN       10.0         NaN        NaN  6037.0\n",
       "2       0.0        0.0   NaN       10.0         NaN        NaN  6037.0"
      ]
     },
     "execution_count": 7,
     "metadata": {},
     "output_type": "execute_result"
    }
   ],
   "source": [
    "# peak into data to see if column is dropped and columns are renamed\n",
    "df.head(3)\n"
   ]
  },
  {
   "cell_type": "code",
   "execution_count": 8,
   "id": "acd38587",
   "metadata": {},
   "outputs": [
    {
     "name": "stdout",
     "output_type": "stream",
     "text": [
      "<class 'pandas.core.frame.DataFrame'>\n",
      "RangeIndex: 2152863 entries, 0 to 2152862\n",
      "Data columns (total 7 columns):\n",
      " #   Column      Non-Null Count    Dtype  \n",
      "---  ------      --------------    -----  \n",
      " 0   bedrooms    2152852 non-null  float64\n",
      " 1   bathrooms   2152852 non-null  float64\n",
      " 2   sqft        2144379 non-null  float64\n",
      " 3   tax_value   2152370 non-null  float64\n",
      " 4   year_built  2143526 non-null  float64\n",
      " 5   taxamount   2148421 non-null  float64\n",
      " 6   fips        2152863 non-null  float64\n",
      "dtypes: float64(7)\n",
      "memory usage: 115.0 MB\n"
     ]
    }
   ],
   "source": [
    "# check for Null values\n",
    "df.info(show_counts=True)"
   ]
  },
  {
   "cell_type": "code",
   "execution_count": 9,
   "id": "ae0bc637",
   "metadata": {},
   "outputs": [
    {
     "name": "stdout",
     "output_type": "stream",
     "text": [
      "<class 'pandas.core.frame.DataFrame'>\n",
      "RangeIndex: 2152863 entries, 0 to 2152862\n",
      "Data columns (total 7 columns):\n",
      " #   Column      Non-Null Count    Dtype  \n",
      "---  ------      --------------    -----  \n",
      " 0   bedrooms    2152852 non-null  float64\n",
      " 1   bathrooms   2152852 non-null  float64\n",
      " 2   sqft        2144379 non-null  float64\n",
      " 3   tax_value   2152370 non-null  float64\n",
      " 4   year_built  2143526 non-null  float64\n",
      " 5   taxamount   2148421 non-null  float64\n",
      " 6   fips        2152863 non-null  float64\n",
      "dtypes: float64(7)\n",
      "memory usage: 115.0 MB\n"
     ]
    }
   ],
   "source": [
    "# check for Null values\n",
    "df.info(null_counts=True)"
   ]
  },
  {
   "cell_type": "code",
   "execution_count": 10,
   "id": "715c2e3f",
   "metadata": {},
   "outputs": [
    {
     "data": {
      "text/html": [
       "<div>\n",
       "<style scoped>\n",
       "    .dataframe tbody tr th:only-of-type {\n",
       "        vertical-align: middle;\n",
       "    }\n",
       "\n",
       "    .dataframe tbody tr th {\n",
       "        vertical-align: top;\n",
       "    }\n",
       "\n",
       "    .dataframe thead th {\n",
       "        text-align: right;\n",
       "    }\n",
       "</style>\n",
       "<table border=\"1\" class=\"dataframe\">\n",
       "  <thead>\n",
       "    <tr style=\"text-align: right;\">\n",
       "      <th></th>\n",
       "      <th>count</th>\n",
       "      <th>mean</th>\n",
       "      <th>std</th>\n",
       "      <th>min</th>\n",
       "      <th>25%</th>\n",
       "      <th>50%</th>\n",
       "      <th>75%</th>\n",
       "      <th>max</th>\n",
       "    </tr>\n",
       "  </thead>\n",
       "  <tbody>\n",
       "    <tr>\n",
       "      <th>bedrooms</th>\n",
       "      <td>2152852.0</td>\n",
       "      <td>3.287196</td>\n",
       "      <td>0.954754</td>\n",
       "      <td>0.00</td>\n",
       "      <td>3.00</td>\n",
       "      <td>3.00</td>\n",
       "      <td>4.00</td>\n",
       "      <td>25.00</td>\n",
       "    </tr>\n",
       "    <tr>\n",
       "      <th>bathrooms</th>\n",
       "      <td>2152852.0</td>\n",
       "      <td>2.230688</td>\n",
       "      <td>0.999280</td>\n",
       "      <td>0.00</td>\n",
       "      <td>2.00</td>\n",
       "      <td>2.00</td>\n",
       "      <td>3.00</td>\n",
       "      <td>32.00</td>\n",
       "    </tr>\n",
       "    <tr>\n",
       "      <th>sqft</th>\n",
       "      <td>2144379.0</td>\n",
       "      <td>1862.855178</td>\n",
       "      <td>1222.125124</td>\n",
       "      <td>1.00</td>\n",
       "      <td>1257.00</td>\n",
       "      <td>1623.00</td>\n",
       "      <td>2208.00</td>\n",
       "      <td>952576.00</td>\n",
       "    </tr>\n",
       "    <tr>\n",
       "      <th>tax_value</th>\n",
       "      <td>2152370.0</td>\n",
       "      <td>461896.237963</td>\n",
       "      <td>699676.049600</td>\n",
       "      <td>1.00</td>\n",
       "      <td>188170.25</td>\n",
       "      <td>327671.00</td>\n",
       "      <td>534527.00</td>\n",
       "      <td>98428909.00</td>\n",
       "    </tr>\n",
       "    <tr>\n",
       "      <th>year_built</th>\n",
       "      <td>2143526.0</td>\n",
       "      <td>1960.949681</td>\n",
       "      <td>22.162196</td>\n",
       "      <td>1801.00</td>\n",
       "      <td>1949.00</td>\n",
       "      <td>1958.00</td>\n",
       "      <td>1976.00</td>\n",
       "      <td>2016.00</td>\n",
       "    </tr>\n",
       "    <tr>\n",
       "      <th>taxamount</th>\n",
       "      <td>2148421.0</td>\n",
       "      <td>5634.865978</td>\n",
       "      <td>8178.910249</td>\n",
       "      <td>1.85</td>\n",
       "      <td>2534.98</td>\n",
       "      <td>4108.95</td>\n",
       "      <td>6414.32</td>\n",
       "      <td>1337755.86</td>\n",
       "    </tr>\n",
       "    <tr>\n",
       "      <th>fips</th>\n",
       "      <td>2152863.0</td>\n",
       "      <td>6048.377335</td>\n",
       "      <td>20.433292</td>\n",
       "      <td>6037.00</td>\n",
       "      <td>6037.00</td>\n",
       "      <td>6037.00</td>\n",
       "      <td>6059.00</td>\n",
       "      <td>6111.00</td>\n",
       "    </tr>\n",
       "  </tbody>\n",
       "</table>\n",
       "</div>"
      ],
      "text/plain": [
       "                count           mean            std      min        25%  \\\n",
       "bedrooms    2152852.0       3.287196       0.954754     0.00       3.00   \n",
       "bathrooms   2152852.0       2.230688       0.999280     0.00       2.00   \n",
       "sqft        2144379.0    1862.855178    1222.125124     1.00    1257.00   \n",
       "tax_value   2152370.0  461896.237963  699676.049600     1.00  188170.25   \n",
       "year_built  2143526.0    1960.949681      22.162196  1801.00    1949.00   \n",
       "taxamount   2148421.0    5634.865978    8178.910249     1.85    2534.98   \n",
       "fips        2152863.0    6048.377335      20.433292  6037.00    6037.00   \n",
       "\n",
       "                  50%        75%          max  \n",
       "bedrooms         3.00       4.00        25.00  \n",
       "bathrooms        2.00       3.00        32.00  \n",
       "sqft          1623.00    2208.00    952576.00  \n",
       "tax_value   327671.00  534527.00  98428909.00  \n",
       "year_built    1958.00    1976.00      2016.00  \n",
       "taxamount     4108.95    6414.32   1337755.86  \n",
       "fips          6037.00    6059.00      6111.00  "
      ]
     },
     "execution_count": 10,
     "metadata": {},
     "output_type": "execute_result"
    }
   ],
   "source": [
    "# get descriptive statistics\n",
    "df.describe().T"
   ]
  },
  {
   "cell_type": "code",
   "execution_count": 11,
   "id": "6dbd08ff",
   "metadata": {},
   "outputs": [
    {
     "data": {
      "text/plain": [
       "bedrooms        11\n",
       "bathrooms       11\n",
       "sqft          8484\n",
       "tax_value      493\n",
       "year_built    9337\n",
       "taxamount     4442\n",
       "fips             0\n",
       "dtype: int64"
      ]
     },
     "execution_count": 11,
     "metadata": {},
     "output_type": "execute_result"
    }
   ],
   "source": [
    "# check for Null\n",
    "# find the total number of Null values in each column\n",
    "df.isnull().sum()"
   ]
  },
  {
   "cell_type": "code",
   "execution_count": 12,
   "id": "54781fd7",
   "metadata": {},
   "outputs": [],
   "source": [
    "# fill Null values\n",
    "# df.fillna(0,inplace=True)"
   ]
  },
  {
   "cell_type": "code",
   "execution_count": 13,
   "id": "3c23c177",
   "metadata": {},
   "outputs": [],
   "source": [
    "# drop Null values\n",
    "df = df.dropna()"
   ]
  },
  {
   "cell_type": "code",
   "execution_count": 14,
   "id": "13bac9d5",
   "metadata": {},
   "outputs": [
    {
     "data": {
      "text/plain": [
       "bedrooms      0\n",
       "bathrooms     0\n",
       "sqft          0\n",
       "tax_value     0\n",
       "year_built    0\n",
       "taxamount     0\n",
       "fips          0\n",
       "dtype: int64"
      ]
     },
     "execution_count": 14,
     "metadata": {},
     "output_type": "execute_result"
    }
   ],
   "source": [
    "# check for Null\n",
    "# find the total number of Null values in each column\n",
    "df.isnull().sum()"
   ]
  },
  {
   "cell_type": "code",
   "execution_count": 15,
   "id": "b2c62fe0",
   "metadata": {},
   "outputs": [
    {
     "name": "stdout",
     "output_type": "stream",
     "text": [
      "25.0         1\n",
      "16.0         2\n",
      "18.0         3\n",
      "15.0         5\n",
      "14.0         7\n",
      "12.0        12\n",
      "13.0        15\n",
      "11.0        34\n",
      "10.0       118\n",
      "9.0        290\n",
      "8.0       1103\n",
      "0.0       4397\n",
      "7.0       4792\n",
      "1.0      22895\n",
      "6.0      25117\n",
      "5.0     150671\n",
      "2.0     334221\n",
      "4.0     633608\n",
      "3.0     962944\n",
      "Name: bedrooms, dtype: int64\n",
      "\n",
      "Unique item count: 19\n",
      "____________________________\n",
      "19.00         1\n",
      "19.50         1\n",
      "32.00         1\n",
      "14.50         1\n",
      "12.50         3\n",
      "11.50         3\n",
      "1.75          3\n",
      "17.00         4\n",
      "20.00         6\n",
      "18.00         8\n",
      "16.00        12\n",
      "10.50        14\n",
      "0.50         16\n",
      "15.00        17\n",
      "14.00        25\n",
      "13.00        39\n",
      "9.50         50\n",
      "12.00        73\n",
      "8.50        108\n",
      "11.00       145\n",
      "10.00       322\n",
      "7.50        382\n",
      "9.00        707\n",
      "6.50       1330\n",
      "8.00       1681\n",
      "0.00       4274\n",
      "7.00       4381\n",
      "5.50       6201\n",
      "6.00      10717\n",
      "4.50      19474\n",
      "5.00      28306\n",
      "3.50      28464\n",
      "1.50      31157\n",
      "4.00      82039\n",
      "2.50     142827\n",
      "1.00     412582\n",
      "3.00     422398\n",
      "2.00     942463\n",
      "Name: bathrooms, dtype: int64\n",
      "\n",
      "Unique item count: 38\n",
      "____________________________\n",
      "24920.0       1\n",
      "11812.0       1\n",
      "12420.0       1\n",
      "7777.0        1\n",
      "11304.0       1\n",
      "           ... \n",
      "1440.0     3684\n",
      "1400.0     3828\n",
      "1120.0     4354\n",
      "1080.0     4376\n",
      "1200.0     5184\n",
      "Name: sqft, Length: 10557, dtype: int64\n",
      "\n",
      "Unique item count: 10557\n",
      "____________________________\n",
      "536061.0       1\n",
      "1887385.0      1\n",
      "627740.0       1\n",
      "483817.0       1\n",
      "351165.0       1\n",
      "            ... \n",
      "440000.0     683\n",
      "430000.0     690\n",
      "400000.0     723\n",
      "500000.0     774\n",
      "450000.0     820\n",
      "Name: tax_value, Length: 588178, dtype: int64\n",
      "\n",
      "Unique item count: 588178\n",
      "____________________________\n",
      "1874.0        1\n",
      "1877.0        1\n",
      "1807.0        1\n",
      "1823.0        1\n",
      "1855.0        1\n",
      "          ...  \n",
      "1956.0    61858\n",
      "1953.0    62270\n",
      "1954.0    69069\n",
      "1950.0    71606\n",
      "1955.0    84329\n",
      "Name: year_built, Length: 153, dtype: int64\n",
      "\n",
      "Unique item count: 153\n",
      "____________________________\n",
      "13494.52      1\n",
      "21084.28      1\n",
      "10389.72      1\n",
      "10695.82      1\n",
      "36376.30      1\n",
      "           ... \n",
      "388.18       37\n",
      "49.18        46\n",
      "343.52       74\n",
      "344.18       76\n",
      "345.72      172\n",
      "Name: taxamount, Length: 915868, dtype: int64\n",
      "\n",
      "Unique item count: 915868\n",
      "____________________________\n",
      "6111.0     162971\n",
      "6059.0     552057\n",
      "6037.0    1425207\n",
      "Name: fips, dtype: int64\n",
      "\n",
      "Unique item count: 3\n",
      "____________________________\n"
     ]
    }
   ],
   "source": [
    "# check unique values\n",
    "for col in df.columns:\n",
    "    print(f'{df[col].value_counts(dropna=False, ascending=True)}\\n')\n",
    "    print(f'Unique item count: {df[col].value_counts(dropna=False, ascending=True).count()}')\n",
    "    print('____________________________')\n",
    "    "
   ]
  },
  {
   "cell_type": "code",
   "execution_count": 16,
   "id": "2fda7655",
   "metadata": {},
   "outputs": [
    {
     "data": {
      "image/png": "[encoded data removed]",
      "text/plain": [
       "<Figure size 640x480 with 1 Axes>"
      ]
     },
     "metadata": {},
     "output_type": "display_data"
    },
    {
     "data": {
      "image/png": "[encoded data removed]",
      "text/plain": [
       "<Figure size 640x480 with 1 Axes>"
      ]
     },
     "metadata": {},
     "output_type": "display_data"
    },
    {
     "data": {
      "image/png": "[encoded data removed]",
      "text/plain": [
       "<Figure size 640x480 with 1 Axes>"
      ]
     },
     "metadata": {},
     "output_type": "display_data"
    },
    {
     "data": {
      "image/png": "[encoded data removed]",
      "text/plain": [
       "<Figure size 640x480 with 1 Axes>"
      ]
     },
     "metadata": {},
     "output_type": "display_data"
    },
    {
     "data": {
      "image/png": "[encoded data removed]",
      "text/plain": [
       "<Figure size 640x480 with 1 Axes>"
      ]
     },
     "metadata": {},
     "output_type": "display_data"
    },
    {
     "data": {
      "image/png": "[encoded data removed]",
      "text/plain": [
       "<Figure size 640x480 with 1 Axes>"
      ]
     },
     "metadata": {},
     "output_type": "display_data"
    },
    {
     "data": {
      "image/png": "[encoded data removed]",
      "text/plain": [
       "<Figure size 640x480 with 1 Axes>"
      ]
     },
     "metadata": {},
     "output_type": "display_data"
    }
   ],
   "source": [
    "# box plot graph of each column\n",
    "for col in df.columns:\n",
    "    sns.boxplot(x=col, data=df)\n",
    "    plt.title(col)\n",
    "    plt.show()\n",
    "    "
   ]
  },
  {
   "cell_type": "code",
   "execution_count": 17,
   "id": "0b3a4982",
   "metadata": {},
   "outputs": [
    {
     "data": {
      "text/plain": [
       "((1198531, 7), (513657, 7), (428047, 7))"
      ]
     },
     "execution_count": 17,
     "metadata": {},
     "output_type": "execute_result"
    }
   ],
   "source": [
    "# set seed\n",
    "seed = 42\n",
    "# split data into 80% train_validate, 20% test\n",
    "train_validate, test = train_test_split(df, test_size=0.2, \n",
    "                                        random_state=seed)\n",
    "\n",
    "# split train_validate data into 70% train, 30% validate\n",
    "train, validate = train_test_split(train_validate, test_size=0.3, \n",
    "                                   random_state=seed)\n",
    "\n",
    "train.shape, validate.shape, test.shape"
   ]
  },
  {
   "cell_type": "code",
   "execution_count": null,
   "id": "2ba9577f",
   "metadata": {},
   "outputs": [],
   "source": [
    "\n",
    "    "
   ]
  }
 ],
 "metadata": {
  "kernelspec": {
   "display_name": "Python 3 (ipykernel)",
   "language": "python",
   "name": "python3"
  },
  "language_info": {
   "codemirror_mode": {
    "name": "ipython",
    "version": 3
   },
   "file_extension": ".py",
   "mimetype": "text/x-python",
   "name": "python",
   "nbconvert_exporter": "python",
   "pygments_lexer": "ipython3",
   "version": "3.9.13"
  }
 },
 "nbformat": 4,
 "nbformat_minor": 5
}
